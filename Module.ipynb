{
 "cells": [
  {
   "cell_type": "code",
   "execution_count": 2,
   "id": "b8dba944",
   "metadata": {},
   "outputs": [
    {
     "name": "stdout",
     "output_type": "stream",
     "text": [
      "['__doc__', '__loader__', '__name__', '__package__', '__spec__', 'acos', 'acosh', 'asin', 'asinh', 'atan', 'atan2', 'atanh', 'ceil', 'comb', 'copysign', 'cos', 'cosh', 'degrees', 'dist', 'e', 'erf', 'erfc', 'exp', 'expm1', 'fabs', 'factorial', 'floor', 'fmod', 'frexp', 'fsum', 'gamma', 'gcd', 'hypot', 'inf', 'isclose', 'isfinite', 'isinf', 'isnan', 'isqrt', 'lcm', 'ldexp', 'lgamma', 'log', 'log10', 'log1p', 'log2', 'modf', 'nan', 'nextafter', 'perm', 'pi', 'pow', 'prod', 'radians', 'remainder', 'sin', 'sinh', 'sqrt', 'tan', 'tanh', 'tau', 'trunc', 'ulp']\n"
     ]
    }
   ],
   "source": [
    "import math\n",
    "\n",
    "value = dir(math)\n",
    "\n",
    "print(value)"
   ]
  },
  {
   "cell_type": "code",
   "execution_count": 3,
   "id": "4d1cd840",
   "metadata": {},
   "outputs": [
    {
     "name": "stdout",
     "output_type": "stream",
     "text": [
      "Help on built-in function tan in module math:\n",
      "\n",
      "tan(x, /)\n",
      "    Return the tangent of x (measured in radians).\n",
      "\n"
     ]
    },
    {
     "data": {
      "text/plain": [
       "-1.995200412208242"
      ]
     },
     "execution_count": 3,
     "metadata": {},
     "output_type": "execute_result"
    }
   ],
   "source": [
    "help(math.tan)\n",
    "math.factorial(6)\n",
    "math.log(100,10)\n",
    "math.tan(90)"
   ]
  },
  {
   "cell_type": "code",
   "execution_count": 8,
   "id": "4f9b54f6",
   "metadata": {},
   "outputs": [
    {
     "name": "stdout",
     "output_type": "stream",
     "text": [
      "120 10\n"
     ]
    }
   ],
   "source": [
    "import math as Matematik # I can name changing\n",
    "\n",
    "from math import ceil,factorial # If I want to choose one, I can do like that\n",
    "\n",
    "a = Matematik.factorial(5)\n",
    "b = Matematik.ceil(9.76)\n",
    "\n",
    "print(a,b)"
   ]
  },
  {
   "cell_type": "code",
   "execution_count": 373,
   "id": "2ecc5966",
   "metadata": {},
   "outputs": [
    {
     "name": "stdout",
     "output_type": "stream",
     "text": [
      "Batuhan = 1\n"
     ]
    }
   ],
   "source": [
    "import random\n",
    "\n",
    "names = [\"Batuhan\",\"Hazal\",\"Yasemin\",\"Yaren\",\"Yavuz\"]\n",
    "\n",
    "lucky = random.randint(0,len(names)-1)\n",
    "\n",
    "def lotory():\n",
    "    return names[lucky]\n",
    "\n",
    "print(lotory(),\"=\", lucky+1)"
   ]
  },
  {
   "cell_type": "code",
   "execution_count": 22,
   "id": "dcc36710",
   "metadata": {},
   "outputs": [
    {
     "name": "stdout",
     "output_type": "stream",
     "text": [
      "['Hazal', 'Batuhan']\n",
      "Batuhan\n"
     ]
    }
   ],
   "source": [
    "import random\n",
    "\n",
    "names = [\"Batuhan\",\"Hazal\",\"Yasemin\",\"Yaren\",\"Yavuz\"]\n",
    "\n",
    "print(random.sample(names,2))\n",
    "\n",
    "print(names[random.randint(0,len(names)-1)])\n",
    "\n",
    "\n"
   ]
  },
  {
   "cell_type": "code",
   "execution_count": 378,
   "id": "01b8b21c",
   "metadata": {},
   "outputs": [
    {
     "data": {
      "text/plain": [
       "'Batuhan'"
      ]
     },
     "execution_count": 378,
     "metadata": {},
     "output_type": "execute_result"
    }
   ],
   "source": [
    "random.choice(names)"
   ]
  },
  {
   "cell_type": "code",
   "execution_count": 382,
   "id": "dfd32780",
   "metadata": {},
   "outputs": [
    {
     "name": "stdout",
     "output_type": "stream",
     "text": [
      "[0, 1, 2, 3, 4, 5, 6, 7, 8, 9]\n",
      "[5, 7, 1, 8, 0, 3, 6, 9, 4, 2]\n"
     ]
    }
   ],
   "source": [
    "import random\n",
    "\n",
    "list1 =list(range(10))\n",
    "print(list1)\n",
    "random.shuffle(list1) # This command can replace the object in the list\n",
    "\n",
    "print(list1)\n"
   ]
  },
  {
   "cell_type": "code",
   "execution_count": 25,
   "id": "4df2f101",
   "metadata": {},
   "outputs": [
    {
     "data": {
      "text/plain": [
       "[9, 4, 6]"
      ]
     },
     "execution_count": 25,
     "metadata": {},
     "output_type": "execute_result"
    }
   ],
   "source": [
    "import random\n",
    "list2 = list(range(10))\n",
    "random.sample(list2,3)"
   ]
  },
  {
   "cell_type": "code",
   "execution_count": 28,
   "id": "d839474e",
   "metadata": {},
   "outputs": [
    {
     "data": {
      "text/plain": [
       "['Hazal']"
      ]
     },
     "execution_count": 28,
     "metadata": {},
     "output_type": "execute_result"
    }
   ],
   "source": [
    "import random\n",
    "names = [\"batuhan\",\"Hazal\"]\n",
    "random.sample(names,1)"
   ]
  }
 ],
 "metadata": {
  "kernelspec": {
   "display_name": "Python 3 (ipykernel)",
   "language": "python",
   "name": "python3"
  },
  "language_info": {
   "codemirror_mode": {
    "name": "ipython",
    "version": 3
   },
   "file_extension": ".py",
   "mimetype": "text/x-python",
   "name": "python",
   "nbconvert_exporter": "python",
   "pygments_lexer": "ipython3",
   "version": "3.10.6"
  }
 },
 "nbformat": 4,
 "nbformat_minor": 5
}
