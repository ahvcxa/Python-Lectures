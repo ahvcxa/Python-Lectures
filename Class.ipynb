{
 "cells": [
  {
   "cell_type": "code",
   "execution_count": 1,
   "id": "3ecd471c",
   "metadata": {},
   "outputs": [
    {
     "name": "stdout",
     "output_type": "stream",
     "text": [
      "Person Created\n",
      "Person Created\n"
     ]
    }
   ],
   "source": [
    "class Person():\n",
    "    def __init__(self):\n",
    "        print(\"Person Created\")\n",
    "        \n",
    "class Student(Person): # Kalıtıma örnek\n",
    "    pass\n",
    "\n",
    "p1 = Person()\n",
    "s1 = Student()"
   ]
  },
  {
   "cell_type": "code",
   "execution_count": 2,
   "id": "7997e5f8",
   "metadata": {},
   "outputs": [
    {
     "name": "stdout",
     "output_type": "stream",
     "text": [
      "Person Created\n",
      "Student created\n"
     ]
    }
   ],
   "source": [
    "class Person():\n",
    "    def __init__(self):\n",
    "        print(\"Person Created\")\n",
    "        \n",
    "class Student(Person): # Kalıtıma örnek\n",
    "    def __init__(self):\n",
    "        print(\"Student created\") #Ezdi override\n",
    "\n",
    "p1 = Person()\n",
    "s1 = Student()"
   ]
  },
  {
   "cell_type": "code",
   "execution_count": 3,
   "id": "2e2f029a",
   "metadata": {},
   "outputs": [
    {
     "name": "stdout",
     "output_type": "stream",
     "text": [
      "Person Created\n",
      "Person Created\n",
      "Student created\n"
     ]
    }
   ],
   "source": [
    "class Person():\n",
    "    def __init__(self):\n",
    "        print(\"Person Created\")\n",
    "        \n",
    "class Student(Person): # Kalıtıma örnek\n",
    "    def __init__(self):\n",
    "        Person.__init__(self)\n",
    "        print(\"Student created\") #Bu sefer her ikisini de çalıştırdı.\n",
    "\n",
    "p1 = Person()\n",
    "s1 = Student()"
   ]
  },
  {
   "cell_type": "code",
   "execution_count": 18,
   "id": "e5ba6fa9",
   "metadata": {},
   "outputs": [
    {
     "name": "stdout",
     "output_type": "stream",
     "text": [
      "Person Created\n",
      "Student created\n",
      "Batuhan\n",
      "Inan\n"
     ]
    }
   ],
   "source": [
    "class Person():\n",
    "    def __init__(self,name,surname):\n",
    "        self.name = name\n",
    "        self.surname = surname\n",
    "        print(\"Person Created\")\n",
    "        \n",
    "class Student(Person): # Kalıtıma örnek\n",
    "    def __init__(self,name,surname):\n",
    "        Person.__init__(self,name,surname)\n",
    "        print(\"Student created\") #Bu sefer her ikisini de çalıştırdı.\n",
    "\n",
    "s1 = Student(\"Batuhan\",\"Inan\")\n",
    "print(s1.name)\n",
    "print(s1.surname)\n"
   ]
  },
  {
   "cell_type": "code",
   "execution_count": 25,
   "id": "5732d564",
   "metadata": {},
   "outputs": [
    {
     "name": "stdout",
     "output_type": "stream",
     "text": [
      "Person Created\n",
      "Student created\n",
      "Batuhan\n",
      "Inan\n"
     ]
    },
    {
     "data": {
      "text/plain": [
       "{'number': 123, 'name': 'Batuhan', 'surname': 'Inan'}"
      ]
     },
     "execution_count": 25,
     "metadata": {},
     "output_type": "execute_result"
    }
   ],
   "source": [
    "class Person():\n",
    "    def __init__(self,name,surname):\n",
    "        self.name = name\n",
    "        self.surname = surname\n",
    "        print(\"Person Created\")\n",
    "        \n",
    "class Student(Person): # Kalıtıma örnek\n",
    "    def __init__(self,name,surname,number):\n",
    "        self.number = number\n",
    "        Person.__init__(self,name,surname)\n",
    "        print(\"Student created\") #Bu sefer her ikisini de çalıştırdı.\n",
    "\n",
    "s1 = Student(\"Batuhan\",\"Inan\",123)\n",
    "print(s1.name)\n",
    "print(s1.surname)\n",
    "s1.__dict__"
   ]
  },
  {
   "cell_type": "code",
   "execution_count": 39,
   "id": "cf1f4b5b",
   "metadata": {},
   "outputs": [
    {
     "name": "stdout",
     "output_type": "stream",
     "text": [
      "\n",
      "Person Created\n",
      "\n",
      "Person Created\n",
      "Student Created\n",
      "\n",
      "Person Created\n",
      "Teacher Created\n",
      "\n",
      "\n",
      "{'name': 'Yavuz', 'surname': 'güneri'}\n",
      "{'branch': 'Tarih', 'name': 'Hazal', 'surname': 'Kaya'}\n",
      "{'number': 123, 'name': 'Batuhan', 'surname': 'Inan'}\n"
     ]
    }
   ],
   "source": [
    "class Person():\n",
    "    def __init__(self,name,surname):\n",
    "        self.name = name\n",
    "        self.surname = surname\n",
    "        print(\"\\nPerson Created\")\n",
    "        \n",
    "class Student(Person): # Kalıtıma örnek\n",
    "    def __init__(self,name,surname,number):\n",
    "        self.number = number\n",
    "        Person.__init__(self,name,surname)\n",
    "        print(\"Student Created\") #Bu sefer her ikisini de çalıştırdı.\n",
    "\n",
    "class Teacher(Person):\n",
    "    def __init__(self,name,surname,branch):\n",
    "        self.branch = branch\n",
    "        super().__init__(name,surname) #Bu metot ile sadece parametreleri göndermemiz yeterli.\n",
    "        print(\"Teacher Created\")\n",
    "    def who_am_i(self):\n",
    "        print(\"I am a Teacher\")\n",
    "\n",
    "p1 = Person(\"Yavuz\",\"güneri\")        \n",
    "s1 = Student(\"Batuhan\",\"Inan\",123)\n",
    "t1 = Teacher(\"Hazal\", \"Kaya\", \"Tarih\")\n",
    "\n",
    "a = p1.__dict__\n",
    "b = t1.__dict__\n",
    "c = s1.__dict__\n",
    "print(\"\\n\")\n",
    "print(a)\n",
    "print(b)\n",
    "print(c)"
   ]
  },
  {
   "cell_type": "code",
   "execution_count": 62,
   "id": "7258bb1b",
   "metadata": {},
   "outputs": [
    {
     "name": "stdout",
     "output_type": "stream",
     "text": [
      "Brave Heart by Mel Gibson\n",
      "178\n",
      "This movie deleted\n"
     ]
    }
   ],
   "source": [
    "class Movie():\n",
    "    def __init__(self,name,director,long):\n",
    "        self.movie_name = name\n",
    "        self.director = director\n",
    "        self.long = long\n",
    "        \n",
    "    def __str__(self): # Özel metotlar ekleyebiliyoruz\n",
    "        return f\"{self.movie_name} by {self.director}\"\n",
    "        \n",
    "    def __len__(self): # Özel metotlar ekleyebiliyoruz\n",
    "        return self.long\n",
    "    \n",
    "    def __del__(self): # Özel metotlar ekleyebiliyoruz\n",
    "        print(\"This movie deleted\")\n",
    "\n",
    "m = Movie(\"Brave Heart\", \"Mel Gibson\", 178)\n",
    "\n",
    "print(m)\n",
    "print(len(m))\n",
    "del m\n"
   ]
  },
  {
   "cell_type": "code",
   "execution_count": null,
   "id": "9fef2f15",
   "metadata": {},
   "outputs": [],
   "source": []
  }
 ],
 "metadata": {
  "kernelspec": {
   "display_name": "Python 3 (ipykernel)",
   "language": "python",
   "name": "python3"
  },
  "language_info": {
   "codemirror_mode": {
    "name": "ipython",
    "version": 3
   },
   "file_extension": ".py",
   "mimetype": "text/x-python",
   "name": "python",
   "nbconvert_exporter": "python",
   "pygments_lexer": "ipython3",
   "version": "3.10.6"
  }
 },
 "nbformat": 4,
 "nbformat_minor": 5
}
