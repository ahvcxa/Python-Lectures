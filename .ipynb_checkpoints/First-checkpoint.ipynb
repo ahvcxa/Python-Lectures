{
 "cells": [
  {
   "cell_type": "markdown",
   "id": "9c27cd1a",
   "metadata": {},
   "source": [
    "# PYTHON LECTURES"
   ]
  },
  {
   "cell_type": "code",
   "execution_count": 1,
   "id": "16bea87c",
   "metadata": {},
   "outputs": [
    {
     "name": "stdout",
     "output_type": "stream",
     "text": [
      "hello\n"
     ]
    }
   ],
   "source": [
    "print(\"hello\")"
   ]
  },
  {
   "cell_type": "code",
   "execution_count": 2,
   "id": "7fe28d77",
   "metadata": {},
   "outputs": [
    {
     "name": "stdout",
     "output_type": "stream",
     "text": [
      "Can you enter your name: Batuhan\n",
      "Wellcome  Batuhan\n"
     ]
    }
   ],
   "source": [
    "name = input(\"Can you enter your name: \")\n",
    "print(\"Wellcome \",name)"
   ]
  },
  {
   "cell_type": "code",
   "execution_count": 1,
   "id": "a79364c7",
   "metadata": {
    "scrolled": true
   },
   "outputs": [
    {
     "name": "stdout",
     "output_type": "stream",
     "text": [
      "4.0\n"
     ]
    }
   ],
   "source": [
    "def avarage(*vals):\n",
    "    return sum(vals)/len(vals)\n",
    "print(avarage(5,6,1))    "
   ]
  },
  {
   "cell_type": "code",
   "execution_count": 6,
   "id": "b3e1f64d",
   "metadata": {},
   "outputs": [
    {
     "name": "stdout",
     "output_type": "stream",
     "text": [
      "53.333333333333336\n"
     ]
    }
   ],
   "source": [
    "def avarage(*vals):\n",
    "    return sum(vals)/len(vals)\n",
    "print(avarage(100,50,10))   "
   ]
  },
  {
   "cell_type": "code",
   "execution_count": null,
   "id": "0f4d19ab",
   "metadata": {},
   "outputs": [],
   "source": []
  }
 ],
 "metadata": {
  "kernelspec": {
   "display_name": "Python 3 (ipykernel)",
   "language": "python",
   "name": "python3"
  },
  "language_info": {
   "codemirror_mode": {
    "name": "ipython",
    "version": 3
   },
   "file_extension": ".py",
   "mimetype": "text/x-python",
   "name": "python",
   "nbconvert_exporter": "python",
   "pygments_lexer": "ipython3",
   "version": "3.9.13"
  }
 },
 "nbformat": 4,
 "nbformat_minor": 5
}
