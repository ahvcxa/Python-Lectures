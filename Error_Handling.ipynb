{
 "cells": [
  {
   "cell_type": "code",
   "execution_count": 1,
   "id": "fdf63ceb",
   "metadata": {},
   "outputs": [
    {
     "ename": "NameError",
     "evalue": "name 'a' is not defined",
     "output_type": "error",
     "traceback": [
      "\u001b[0;31m---------------------------------------------------------------------------\u001b[0m",
      "\u001b[0;31mNameError\u001b[0m                                 Traceback (most recent call last)",
      "\u001b[0;32m/tmp/ipykernel_15864/1189138062.py\u001b[0m in \u001b[0;36m<module>\u001b[0;34m\u001b[0m\n\u001b[0;32m----> 1\u001b[0;31m \u001b[0mprint\u001b[0m\u001b[0;34m(\u001b[0m\u001b[0ma\u001b[0m\u001b[0;34m)\u001b[0m\u001b[0;34m\u001b[0m\u001b[0;34m\u001b[0m\u001b[0m\n\u001b[0m",
      "\u001b[0;31mNameError\u001b[0m: name 'a' is not defined"
     ]
    }
   ],
   "source": [
    "print(a)\n",
    "#NameError"
   ]
  },
  {
   "cell_type": "code",
   "execution_count": 2,
   "id": "b60b53a8",
   "metadata": {},
   "outputs": [
    {
     "ename": "SyntaxError",
     "evalue": "invalid syntax. Perhaps you forgot a comma? (276500740.py, line 1)",
     "output_type": "error",
     "traceback": [
      "\u001b[0;36m  File \u001b[0;32m\"/tmp/ipykernel_15864/276500740.py\"\u001b[0;36m, line \u001b[0;32m1\u001b[0m\n\u001b[0;31m    print(a\"\"b)\u001b[0m\n\u001b[0m           ^\u001b[0m\n\u001b[0;31mSyntaxError\u001b[0m\u001b[0;31m:\u001b[0m invalid syntax. Perhaps you forgot a comma?\n"
     ]
    }
   ],
   "source": [
    "print(a\"\"b)\n",
    "#SyntaxError"
   ]
  },
  {
   "cell_type": "code",
   "execution_count": 3,
   "id": "9234fe6c",
   "metadata": {},
   "outputs": [
    {
     "ename": "ZeroDivisionError",
     "evalue": "division by zero",
     "output_type": "error",
     "traceback": [
      "\u001b[0;31m---------------------------------------------------------------------------\u001b[0m",
      "\u001b[0;31mZeroDivisionError\u001b[0m                         Traceback (most recent call last)",
      "\u001b[0;32m/tmp/ipykernel_15864/774800488.py\u001b[0m in \u001b[0;36m<module>\u001b[0;34m\u001b[0m\n\u001b[0;32m----> 1\u001b[0;31m \u001b[0mprint\u001b[0m\u001b[0;34m(\u001b[0m\u001b[0;36m6\u001b[0m\u001b[0;34m/\u001b[0m\u001b[0;36m0\u001b[0m\u001b[0;34m)\u001b[0m\u001b[0;34m\u001b[0m\u001b[0;34m\u001b[0m\u001b[0m\n\u001b[0m",
      "\u001b[0;31mZeroDivisionError\u001b[0m: division by zero"
     ]
    }
   ],
   "source": [
    "print(6/0)\n",
    "#ZeroDivisionError"
   ]
  },
  {
   "cell_type": "code",
   "execution_count": 4,
   "id": "d52f812d",
   "metadata": {},
   "outputs": [
    {
     "ename": "ModuleNotFoundError",
     "evalue": "No module named 'aaaa'",
     "output_type": "error",
     "traceback": [
      "\u001b[0;31m---------------------------------------------------------------------------\u001b[0m",
      "\u001b[0;31mModuleNotFoundError\u001b[0m                       Traceback (most recent call last)",
      "\u001b[0;32m/tmp/ipykernel_15864/290529372.py\u001b[0m in \u001b[0;36m<module>\u001b[0;34m\u001b[0m\n\u001b[0;32m----> 1\u001b[0;31m \u001b[0;32mimport\u001b[0m \u001b[0maaaa\u001b[0m\u001b[0;34m\u001b[0m\u001b[0;34m\u001b[0m\u001b[0m\n\u001b[0m",
      "\u001b[0;31mModuleNotFoundError\u001b[0m: No module named 'aaaa'"
     ]
    }
   ],
   "source": [
    "import aaaa\n",
    "#ModuleNotFoundError"
   ]
  },
  {
   "cell_type": "markdown",
   "id": "5e033cab",
   "metadata": {},
   "source": [
    "There are many error name. \n",
    "You can look others in python.org"
   ]
  },
  {
   "cell_type": "markdown",
   "id": "447bf0ea",
   "metadata": {},
   "source": [
    "# EXAMPLES"
   ]
  },
  {
   "cell_type": "code",
   "execution_count": 7,
   "id": "458ad6e2",
   "metadata": {},
   "outputs": [
    {
     "name": "stdout",
     "output_type": "stream",
     "text": [
      "Number1: 10\n",
      "Number2: 0\n",
      "0 ile bölünemez!!\n"
     ]
    }
   ],
   "source": [
    "try:\n",
    "    a = int(input(\"Number1: \"))\n",
    "    b = int(input(\"Number2: \"))\n",
    "    print(a/b)\n",
    "except ZeroDivisionError:\n",
    "    print(\"0 ile bölünemez!!\")"
   ]
  },
  {
   "cell_type": "code",
   "execution_count": 12,
   "id": "cb5d53cf",
   "metadata": {},
   "outputs": [
    {
     "name": "stdout",
     "output_type": "stream",
     "text": [
      "Number1: 10\n",
      "Number2: 0\n",
      "Error:  division by zero\n"
     ]
    }
   ],
   "source": [
    "try:\n",
    "    a = int(input(\"Number1: \"))\n",
    "    b = int(input(\"Number2: \"))\n",
    "    print(a/b)\n",
    "except Exception as error:\n",
    "    print(\"Error: \",error)"
   ]
  },
  {
   "cell_type": "code",
   "execution_count": 15,
   "id": "d706e514",
   "metadata": {},
   "outputs": [
    {
     "name": "stdout",
     "output_type": "stream",
     "text": [
      "\n",
      "Number1: 10\n",
      "Number2: 0\n",
      "\n",
      "Error:  division by zero\n",
      "\n",
      "Number1: 10\n",
      "Number2: a\n",
      "\n",
      "Error:  invalid literal for int() with base 10: 'a'\n",
      "\n",
      "Number1: <\n",
      "\n",
      "Error:  invalid literal for int() with base 10: '<'\n",
      "\n",
      "Number1: 10\n",
      "Number2: 2\n",
      "5.0\n"
     ]
    }
   ],
   "source": [
    "while True:\n",
    "    try:\n",
    "        a = int(input(\"\\nNumber1: \"))\n",
    "        b = int(input(\"Number2: \"))\n",
    "        print(a/b)\n",
    "    except Exception as error:\n",
    "        print(\"\\nError: \",error)\n",
    "    else:\n",
    "        break"
   ]
  },
  {
   "cell_type": "code",
   "execution_count": 19,
   "id": "4ea548ec",
   "metadata": {},
   "outputs": [
    {
     "name": "stdout",
     "output_type": "stream",
     "text": [
      "\n",
      "Number1: 10\n",
      "Number2: 0\n",
      "\n",
      "Error:  division by zero\n",
      "Except ended\n",
      "\n",
      "Number1: 10\n",
      "Number2: 5\n",
      "2.0\n",
      "Except ended\n"
     ]
    }
   ],
   "source": [
    "while True:\n",
    "    try:\n",
    "        a = int(input(\"\\nNumber1: \"))\n",
    "        b = int(input(\"Number2: \"))\n",
    "        print(a/b)\n",
    "    except Exception as error:\n",
    "        print(\"\\nError: \",error)\n",
    "    else:\n",
    "        break\n",
    "    finally:\n",
    "        print(\"Except ended\")"
   ]
  },
  {
   "cell_type": "code",
   "execution_count": null,
   "id": "09b76d9f",
   "metadata": {},
   "outputs": [
    {
     "name": "stdout",
     "output_type": "stream",
     "text": [
      "Password: 12345667*aA\n",
      "Password başarılı\n"
     ]
    }
   ],
   "source": [
    "def Check_password(psw):\n",
    "    import re \n",
    "    if len(psw) < 7:\n",
    "        raise Exception(\"Password en az 7 karakter olmalıdır.\")\n",
    "\n",
    "    elif not re.search(\"[a-z]\",psw):\n",
    "        raise Exception(\"Password küçük harf içermelidir.\")\n",
    "\n",
    "    elif not re.search(\"[A-Z]\",psw):\n",
    "        raise Exception(\"Password büyük harf içermelidir.\")\n",
    "\n",
    "    elif not re.search(\"[*-+/#$&]\",psw):\n",
    "        raise Exception(\"Password şekil içermelidir.\")\n",
    "\n",
    "    elif not re.search(\"[0-9]\",psw):\n",
    "        raise Exception(\"Password rakam içermelidir.\")\n",
    "\n",
    "    elif re.search(\"[\\s]\",psw):\n",
    "        raise Exception(\"Password boşluk içermemelidir.\")\n",
    "    else:\n",
    "        print(\"Password başarılı\")\n",
    "        \n",
    "        \n",
    "\n",
    "\n",
    "while True:\n",
    "\n",
    "    password=input(\"Password: \")\n",
    "    try:\n",
    "        Check_password(password)\n",
    "        \n",
    "\n",
    "    except Exception as ex:\n",
    "        print(\"\\n\",ex)\n",
    "    "
   ]
  },
  {
   "cell_type": "code",
   "execution_count": null,
   "id": "6e495187",
   "metadata": {},
   "outputs": [],
   "source": []
  },
  {
   "cell_type": "code",
   "execution_count": 4,
   "id": "e45ed0a8",
   "metadata": {},
   "outputs": [
    {
     "name": "stdout",
     "output_type": "stream",
     "text": [
      "1\n",
      "2\n",
      "10\n",
      "50\n"
     ]
    }
   ],
   "source": [
    "liste = [\"1\",\"2\",\"5a\",\"10b\",\"abc\",\"10\",\"50\"]\n",
    "import re \n",
    "for x in liste:\n",
    "    if re.search(\"[0-9]\",x):\n",
    "        if not re.search(\"[a-z]\",x):\n",
    "            if not re.search(\"[A-Z]\",x):\n",
    "                if not re.search(\"[*-/+!'^%&/']\",x):\n",
    "                    print(x)\n",
    "        \n",
    "    "
   ]
  },
  {
   "cell_type": "code",
   "execution_count": 8,
   "id": "31343399",
   "metadata": {},
   "outputs": [
    {
     "name": "stdout",
     "output_type": "stream",
     "text": [
      "1\n",
      "2\n"
     ]
    },
    {
     "ename": "ValueError",
     "evalue": "invalid literal for int() with base 10: '5a'",
     "output_type": "error",
     "traceback": [
      "\u001b[0;31m---------------------------------------------------------------------------\u001b[0m",
      "\u001b[0;31mValueError\u001b[0m                                Traceback (most recent call last)",
      "\u001b[0;32m/tmp/ipykernel_14617/1479546950.py\u001b[0m in \u001b[0;36m<module>\u001b[0;34m\u001b[0m\n\u001b[1;32m      1\u001b[0m \u001b[0;32mfor\u001b[0m \u001b[0mx\u001b[0m \u001b[0;32min\u001b[0m \u001b[0mliste\u001b[0m\u001b[0;34m:\u001b[0m\u001b[0;34m\u001b[0m\u001b[0;34m\u001b[0m\u001b[0m\n\u001b[0;32m----> 2\u001b[0;31m     \u001b[0mresult\u001b[0m \u001b[0;34m=\u001b[0m \u001b[0mint\u001b[0m\u001b[0;34m(\u001b[0m\u001b[0mx\u001b[0m\u001b[0;34m)\u001b[0m\u001b[0;34m\u001b[0m\u001b[0;34m\u001b[0m\u001b[0m\n\u001b[0m\u001b[1;32m      3\u001b[0m     \u001b[0mprint\u001b[0m\u001b[0;34m(\u001b[0m\u001b[0mresult\u001b[0m\u001b[0;34m)\u001b[0m\u001b[0;34m\u001b[0m\u001b[0;34m\u001b[0m\u001b[0m\n",
      "\u001b[0;31mValueError\u001b[0m: invalid literal for int() with base 10: '5a'"
     ]
    }
   ],
   "source": [
    "for x in liste:\n",
    "    result = int(x)\n",
    "    print(result)"
   ]
  },
  {
   "cell_type": "code",
   "execution_count": 10,
   "id": "b3cf416f",
   "metadata": {},
   "outputs": [
    {
     "name": "stdout",
     "output_type": "stream",
     "text": [
      "1\n",
      "2\n",
      "10\n",
      "50\n"
     ]
    }
   ],
   "source": [
    "for x in liste:\n",
    "    try:\n",
    "        result = int(x)\n",
    "        print(result)\n",
    "    except ValueError:\n",
    "        continue"
   ]
  },
  {
   "cell_type": "code",
   "execution_count": 11,
   "id": "18baf61e",
   "metadata": {},
   "outputs": [
    {
     "name": "stdout",
     "output_type": "stream",
     "text": [
      "You can enter something: a\n",
      "You can enter something: b\n",
      "You can enter something: 2\n",
      "\n",
      " 2\n",
      "You can enter something: 141\n",
      "\n",
      " 141\n",
      "You can enter something: a2312\n",
      "You can enter something: q112\n",
      "You can enter something: q\n"
     ]
    }
   ],
   "source": [
    "while True:\n",
    "    value = input(\"You can enter something: \")\n",
    "    \n",
    "    if value == \"q\":\n",
    "        break\n",
    "    try:\n",
    "        result = int(value)\n",
    "        print(\"\\n\",result)\n",
    "    except ValueError:\n",
    "        continue"
   ]
  },
  {
   "cell_type": "code",
   "execution_count": 16,
   "id": "072de7f1",
   "metadata": {},
   "outputs": [
    {
     "name": "stdout",
     "output_type": "stream",
     "text": [
      "Can you create password: çased\n",
      "Password contain Turkish character\n"
     ]
    }
   ],
   "source": [
    "\n",
    "password = input(\"Can you create password: \")\n",
    "\n",
    "def check_pass(password):\n",
    "    import re\n",
    "    if re.search(\"[çöıİşŞÇÖÜüğĞ]\",password):\n",
    "        raise Exception(\"Password contain Turkish character\")\n",
    "try:\n",
    "    check_pass(password)\n",
    "except Exception as ex:\n",
    "    print(ex)\n",
    "else:\n",
    "    print(\"Your password is correct !\")\n",
    "    "
   ]
  },
  {
   "cell_type": "code",
   "execution_count": 26,
   "id": "f54ad7a9",
   "metadata": {},
   "outputs": [
    {
     "name": "stdout",
     "output_type": "stream",
     "text": [
      "Can you create password: şss\n",
      "Password contain Turkish character !\n"
     ]
    }
   ],
   "source": [
    "def check_pas(password):\n",
    "    turkish_character = \"çöıİşŞÇÖÜüğĞ\"\n",
    "    for i in password:\n",
    "        if i in turkish_character:\n",
    "            raise TypeError(\"Password contain Turkish character !\")\n",
    "        else:\n",
    "            pass\n",
    "\n",
    "password = input(\"Can you create password: \")\n",
    "try:\n",
    "    check_pas(password)\n",
    "except Exception as ex:\n",
    "    print(ex)\n",
    "else:\n",
    "     print(\"Password is correct\")"
   ]
  },
  {
   "cell_type": "code",
   "execution_count": 61,
   "id": "d9533cd2",
   "metadata": {},
   "outputs": [
    {
     "name": "stdout",
     "output_type": "stream",
     "text": [
      "Can you enter number: -5\n",
      "Factorial number cannot be negative\n"
     ]
    }
   ],
   "source": [
    "def factorial(num):\n",
    "\n",
    "    num= int(num)\n",
    "    if num <0:\n",
    "        raise ValueError(\"Factorial number cannot be negative\")\n",
    "        \n",
    "    result =1\n",
    "    \n",
    "    for x in range(1,num+1):\n",
    "        result *= x\n",
    "    print(result)\n",
    "    \n",
    "num = input(\"Can you enter number: \")\n",
    "\n",
    "try:\n",
    "    factorial(num)\n",
    "except Exception as ex:\n",
    "    print(ex)\n",
    "    \n"
   ]
  },
  {
   "cell_type": "code",
   "execution_count": null,
   "id": "c1a7c016",
   "metadata": {},
   "outputs": [],
   "source": []
  }
 ],
 "metadata": {
  "kernelspec": {
   "display_name": "Python 3 (ipykernel)",
   "language": "python",
   "name": "python3"
  },
  "language_info": {
   "codemirror_mode": {
    "name": "ipython",
    "version": 3
   },
   "file_extension": ".py",
   "mimetype": "text/x-python",
   "name": "python",
   "nbconvert_exporter": "python",
   "pygments_lexer": "ipython3",
   "version": "3.10.6"
  }
 },
 "nbformat": 4,
 "nbformat_minor": 5
}
