{
 "cells": [
  {
   "cell_type": "markdown",
   "id": "3d4dbbff",
   "metadata": {},
   "source": [
    "# STRINGS"
   ]
  },
  {
   "cell_type": "code",
   "execution_count": 6,
   "id": "39b08b57",
   "metadata": {},
   "outputs": [
    {
     "name": "stdout",
     "output_type": "stream",
     "text": [
      "n\n",
      "el,m aei \n"
     ]
    }
   ],
   "source": [
    "sentence = \"Hello, my name is Batuhan\"\n",
    "length = len(sentence)\n",
    "print(sentence[length-1])\n",
    "print(sentence[1:18:2])\n"
   ]
  },
  {
   "cell_type": "markdown",
   "id": "2b309dd4",
   "metadata": {},
   "source": [
    "# .format()"
   ]
  },
  {
   "cell_type": "code",
   "execution_count": 7,
   "id": "33646725",
   "metadata": {},
   "outputs": [
    {
     "name": "stdout",
     "output_type": "stream",
     "text": [
      "1.6666666666666667\n",
      "result is 1.67\n"
     ]
    }
   ],
   "source": [
    "result = 5/3\n",
    "print(result)\n",
    "print(\"result is {r:1.3}\".format(r=result))"
   ]
  },
  {
   "cell_type": "code",
   "execution_count": 8,
   "id": "91781c14",
   "metadata": {},
   "outputs": [
    {
     "name": "stdout",
     "output_type": "stream",
     "text": [
      "Hi, my name is Batuhan and my surname is Inan\n"
     ]
    }
   ],
   "source": [
    "name= \"Batuhan\"\n",
    "surname = \"Inan\"\n",
    "print(f\"Hi, my name is {name} and my surname is {surname}\")"
   ]
  },
  {
   "cell_type": "code",
   "execution_count": 9,
   "id": "60182c9a",
   "metadata": {},
   "outputs": [
    {
     "name": "stdout",
     "output_type": "stream",
     "text": [
      "65\n",
      ")\n",
      "Python Kursu: B\n",
      ")taas 04( zinir\n",
      "riniz (40 saat)\n",
      ")taas 04( zinirebheR amalmargorP nohtyP anoS natşaB :usruK nohtyP\n"
     ]
    }
   ],
   "source": [
    "#example\n",
    "website = \"http://www.sadikturan.com\"\n",
    "course = \"Python Kursu: Baştan Sona Python Programlama Rehberiniz (40 saat)\"\n",
    "how = len(course)\n",
    "print(how)\n",
    "print(course[how-1])\n",
    "print(course[:15])\n",
    "print(course[65:49:-1])\n",
    "print(course[-15:])\n",
    "print(course[::-1])"
   ]
  },
  {
   "cell_type": "code",
   "execution_count": 10,
   "id": "8f7c4ffd",
   "metadata": {},
   "outputs": [
    {
     "name": "stdout",
     "output_type": "stream",
     "text": [
      "www\n"
     ]
    }
   ],
   "source": [
    "print(website[7:10])"
   ]
  },
  {
   "cell_type": "code",
   "execution_count": 11,
   "id": "54c70001",
   "metadata": {},
   "outputs": [
    {
     "name": "stdout",
     "output_type": "stream",
     "text": [
      "esruoc\n"
     ]
    }
   ],
   "source": [
    "vals = \"course\"\n",
    "print(vals[5::-1])"
   ]
  },
  {
   "cell_type": "code",
   "execution_count": 12,
   "id": "0c9fa839",
   "metadata": {},
   "outputs": [
    {
     "data": {
      "text/plain": [
       "'Hello World'"
      ]
     },
     "execution_count": 12,
     "metadata": {},
     "output_type": "execute_result"
    }
   ],
   "source": [
    "sentence = \"Hello world\"\n",
    "sentence.replace(\"w\", \"W\")"
   ]
  },
  {
   "cell_type": "code",
   "execution_count": 13,
   "id": "9d0305ec",
   "metadata": {},
   "outputs": [
    {
     "data": {
      "text/plain": [
       "'abcabcabc'"
      ]
     },
     "execution_count": 13,
     "metadata": {},
     "output_type": "execute_result"
    }
   ],
   "source": [
    "\"abc\"*3"
   ]
  },
  {
   "cell_type": "markdown",
   "id": "80fba5a3",
   "metadata": {},
   "source": [
    "# STRING METHODS"
   ]
  },
  {
   "cell_type": "code",
   "execution_count": 14,
   "id": "2cfcc382",
   "metadata": {},
   "outputs": [],
   "source": [
    "website = \"http://www.sadikturan.com\"\n",
    "course = \"Python Kursu: Baştan Sona Python Programlama Rehberiniz (40 saat)\"\n",
    "greeting = \" Hello World \""
   ]
  },
  {
   "cell_type": "code",
   "execution_count": 15,
   "id": "afe281cb",
   "metadata": {},
   "outputs": [
    {
     "data": {
      "text/plain": [
       "'Hello World'"
      ]
     },
     "execution_count": 15,
     "metadata": {},
     "output_type": "execute_result"
    }
   ],
   "source": [
    "greeting.strip()"
   ]
  },
  {
   "cell_type": "code",
   "execution_count": 16,
   "id": "08cdc9b4",
   "metadata": {},
   "outputs": [
    {
     "data": {
      "text/plain": [
       "'sadikturan'"
      ]
     },
     "execution_count": 16,
     "metadata": {},
     "output_type": "execute_result"
    }
   ],
   "source": [
    "website.strip(\"htp/com.w:\")"
   ]
  },
  {
   "cell_type": "code",
   "execution_count": 17,
   "id": "692b3d20",
   "metadata": {},
   "outputs": [
    {
     "data": {
      "text/plain": [
       "'python kursu: baştan sona python programlama rehberiniz (40 saat)'"
      ]
     },
     "execution_count": 17,
     "metadata": {},
     "output_type": "execute_result"
    }
   ],
   "source": [
    "course.lower()"
   ]
  },
  {
   "cell_type": "code",
   "execution_count": 42,
   "id": "240c0323",
   "metadata": {},
   "outputs": [
    {
     "data": {
      "text/plain": [
       "1"
      ]
     },
     "execution_count": 42,
     "metadata": {},
     "output_type": "execute_result"
    }
   ],
   "source": [
    "website.count(\"a\")\n",
    "website.count(\"www\",0,10)"
   ]
  },
  {
   "cell_type": "code",
   "execution_count": 23,
   "id": "c637a59f",
   "metadata": {},
   "outputs": [
    {
     "data": {
      "text/plain": [
       "False"
      ]
     },
     "execution_count": 23,
     "metadata": {},
     "output_type": "execute_result"
    }
   ],
   "source": [
    "website.startswith(\"www\")\n"
   ]
  },
  {
   "cell_type": "code",
   "execution_count": 24,
   "id": "c8fdba07",
   "metadata": {},
   "outputs": [
    {
     "data": {
      "text/plain": [
       "True"
      ]
     },
     "execution_count": 24,
     "metadata": {},
     "output_type": "execute_result"
    }
   ],
   "source": [
    "website.endswith(\"com\")"
   ]
  },
  {
   "cell_type": "code",
   "execution_count": 36,
   "id": "c356a7ef",
   "metadata": {},
   "outputs": [
    {
     "name": "stdout",
     "output_type": "stream",
     "text": [
      "True\n"
     ]
    }
   ],
   "source": [
    "a = website.find(\"com\")\n",
    "if a>0:\n",
    "    bool=True\n",
    "    print(bool)\n",
    "else:\n",
    "    bool=False\n",
    "    print(bool)"
   ]
  },
  {
   "cell_type": "code",
   "execution_count": 92,
   "id": "3c73f25c",
   "metadata": {},
   "outputs": [
    {
     "data": {
      "text/plain": [
       "['Python',\n",
       " 'Kursu:',\n",
       " 'Baştan',\n",
       " 'Sona',\n",
       " 'Python',\n",
       " 'Programlama',\n",
       " 'Rehberiniz',\n",
       " '(40',\n",
       " 'saat)']"
      ]
     },
     "execution_count": 92,
     "metadata": {},
     "output_type": "execute_result"
    }
   ],
   "source": [
    "course.split(\" \")"
   ]
  },
  {
   "cell_type": "code",
   "execution_count": 87,
   "id": "a1d6ab20",
   "metadata": {},
   "outputs": [
    {
     "name": "stdout",
     "output_type": "stream",
     "text": [
      "---------------------------------------------BRAVE BANK---------------------------------------------\n",
      "Can You Enter Your Name: Batuhan\n",
      "Wellcome Batuhan\n",
      "Batuhan Can You Enter Your Password: 123456\n",
      "Login Succesful\n",
      "---------------------------------------------BRAVE BANK---------------------------------------------\n"
     ]
    }
   ],
   "source": [
    "enterence = \"BRAVE BANK\"\n",
    "print(enterence.center(100,\"-\"))\n",
    "name = input(\"Can You Enter Your Name: \")\n",
    "isalpha = name.isalpha()\n",
    "\n",
    "if isalpha==True:\n",
    "    print(f\"Wellcome {name.capitalize()}\")\n",
    "    password = input(f\"{name.capitalize()} Can You Enter Your Password: \")\n",
    "    isdigit = password.isdigit()\n",
    "\n",
    "    if isdigit==True:\n",
    "        print(\"Login Succesful\")\n",
    "        print(enterence.center(100,\"-\"))\n",
    "    else:\n",
    "        print(\"Your Password Is Wrong !\")\n",
    "else:\n",
    "    print(\"Login Fail Your Name Is Wrong !\")\n",
    "    \n"
   ]
  },
  {
   "cell_type": "code",
   "execution_count": 94,
   "id": "40ad8827",
   "metadata": {},
   "outputs": [
    {
     "name": "stdout",
     "output_type": "stream",
     "text": [
      "Python-Kursu:-Baştan-Sona-Python-Programlama-Rehberiniz-(40-saat)\n"
     ]
    }
   ],
   "source": [
    "y = course.split(\" \")\n",
    "x= \"-\".join(y)\n",
    "print(x)"
   ]
  },
  {
   "cell_type": "code",
   "execution_count": null,
   "id": "3712b17c",
   "metadata": {},
   "outputs": [],
   "source": []
  }
 ],
 "metadata": {
  "kernelspec": {
   "display_name": "Python 3 (ipykernel)",
   "language": "python",
   "name": "python3"
  },
  "language_info": {
   "codemirror_mode": {
    "name": "ipython",
    "version": 3
   },
   "file_extension": ".py",
   "mimetype": "text/x-python",
   "name": "python",
   "nbconvert_exporter": "python",
   "pygments_lexer": "ipython3",
   "version": "3.9.13"
  }
 },
 "nbformat": 4,
 "nbformat_minor": 5
}
