{
 "cells": [
  {
   "cell_type": "markdown",
   "id": "8b49cb79",
   "metadata": {},
   "source": [
    "# Lambda"
   ]
  },
  {
   "cell_type": "code",
   "execution_count": 1,
   "id": "19f3f857",
   "metadata": {},
   "outputs": [
    {
     "name": "stdout",
     "output_type": "stream",
     "text": [
      "4\n"
     ]
    }
   ],
   "source": [
    "square = lambda num: num**2\n",
    "print(square(2))"
   ]
  },
  {
   "cell_type": "code",
   "execution_count": 2,
   "id": "ad789f21",
   "metadata": {},
   "outputs": [
    {
     "name": "stdout",
     "output_type": "stream",
     "text": [
      "[1, 8, 27, 64, 125, 216]\n"
     ]
    }
   ],
   "source": [
    "list10 =[1,2,3,4,5,6]\n",
    "result = list(map(lambda num1:num1**3,list10))\n",
    "print(result)"
   ]
  },
  {
   "cell_type": "code",
   "execution_count": 7,
   "id": "844bda1e",
   "metadata": {},
   "outputs": [
    {
     "name": "stdout",
     "output_type": "stream",
     "text": [
      "[False, True, False, True, False, True]\n"
     ]
    }
   ],
   "source": [
    "list10 =[1,2,3,4,5,6]\n",
    "def plural(val): return val%2==0\n",
    "result = list(map(plural,list10))\n",
    "print(result)\n"
   ]
  },
  {
   "cell_type": "markdown",
   "id": "35521605",
   "metadata": {},
   "source": [
    "# Global - Local"
   ]
  },
  {
   "cell_type": "code",
   "execution_count": 1,
   "id": "4cad3191",
   "metadata": {},
   "outputs": [
    {
     "name": "stdout",
     "output_type": "stream",
     "text": [
      "Hello  Hazal\n",
      "Batuhan\n"
     ]
    }
   ],
   "source": [
    "name = \"Batuhan\"\n",
    "def hello():\n",
    "    name = \"Hazal\"\n",
    "    print(\"Hello \",name)\n",
    "hello()\n",
    "print(name)"
   ]
  },
  {
   "cell_type": "code",
   "execution_count": 2,
   "id": "0c035fca",
   "metadata": {},
   "outputs": [
    {
     "name": "stdout",
     "output_type": "stream",
     "text": [
      "Hello  Hazal\n",
      "Hazal\n"
     ]
    }
   ],
   "source": [
    "name = \"Batuhan\"\n",
    "def hello():\n",
    "    global name\n",
    "    name = \"Hazal\"\n",
    "    print(\"Hello \",name)\n",
    "hello()\n",
    "print(name)"
   ]
  },
  {
   "cell_type": "code",
   "execution_count": 3,
   "id": "e259d16b",
   "metadata": {},
   "outputs": [
    {
     "name": "stdout",
     "output_type": "stream",
     "text": [
      "Hello  Batuhan\n",
      "Batuhan\n"
     ]
    }
   ],
   "source": [
    "name = \"Batuhan\"\n",
    "def hello():\n",
    "    print(\"Hello \",name)\n",
    "hello()\n",
    "print(name)"
   ]
  }
 ],
 "metadata": {
  "kernelspec": {
   "display_name": "Python 3 (ipykernel)",
   "language": "python",
   "name": "python3"
  },
  "language_info": {
   "codemirror_mode": {
    "name": "ipython",
    "version": 3
   },
   "file_extension": ".py",
   "mimetype": "text/x-python",
   "name": "python",
   "nbconvert_exporter": "python",
   "pygments_lexer": "ipython3",
   "version": "3.9.13"
  }
 },
 "nbformat": 4,
 "nbformat_minor": 5
}
