{
 "cells": [
  {
   "cell_type": "markdown",
   "id": "d51a0ff8",
   "metadata": {},
   "source": [
    "# VARIABLES"
   ]
  },
  {
   "cell_type": "code",
   "execution_count": 2,
   "id": "2203b612",
   "metadata": {},
   "outputs": [
    {
     "name": "stdout",
     "output_type": "stream",
     "text": [
      "Cost : 75.0$\n"
     ]
    }
   ],
   "source": [
    "Cost_Shirt = 100 \n",
    "sale = 1/4\n",
    "total = Cost_Shirt-Cost_Shirt*sale\n",
    "print(\"Cost : {0}$\".format(total))"
   ]
  },
  {
   "cell_type": "code",
   "execution_count": 8,
   "id": "7d1eb2f1",
   "metadata": {},
   "outputs": [
    {
     "name": "stdout",
     "output_type": "stream",
     "text": [
      "Name: Batuhan\n",
      "Lastname: Inan\n",
      "Job: Student\n"
     ]
    }
   ],
   "source": [
    "#User Information\n",
    "name = \"Batuhan\"\n",
    "last_Name = \"Inan\"\n",
    "job = \"Student\"\n",
    "\n",
    "print(\"Name: {0}\\nLastname: {1}\\nJob: {2}\".format(name,last_Name,job))"
   ]
  },
  {
   "cell_type": "code",
   "execution_count": 9,
   "id": "6d6825ce",
   "metadata": {},
   "outputs": [
    {
     "name": "stdout",
     "output_type": "stream",
     "text": [
      "Total cost:  240\n"
     ]
    }
   ],
   "source": [
    "order1 = 50\n",
    "order2 = 70\n",
    "order3 = 120\n",
    "total = order1+order2+order3\n",
    "print(\"Total cost: \",total)"
   ]
  },
  {
   "cell_type": "code",
   "execution_count": null,
   "id": "d6f0dfd5",
   "metadata": {},
   "outputs": [],
   "source": []
  }
 ],
 "metadata": {
  "kernelspec": {
   "display_name": "Python 3 (ipykernel)",
   "language": "python",
   "name": "python3"
  },
  "language_info": {
   "codemirror_mode": {
    "name": "ipython",
    "version": 3
   },
   "file_extension": ".py",
   "mimetype": "text/x-python",
   "name": "python",
   "nbconvert_exporter": "python",
   "pygments_lexer": "ipython3",
   "version": "3.9.13"
  }
 },
 "nbformat": 4,
 "nbformat_minor": 5
}
