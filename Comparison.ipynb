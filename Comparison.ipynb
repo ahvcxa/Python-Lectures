{
 "cells": [
  {
   "cell_type": "markdown",
   "id": "d899b334",
   "metadata": {},
   "source": [
    "# COMPARISON"
   ]
  },
  {
   "cell_type": "code",
   "execution_count": 4,
   "id": "bc90b839",
   "metadata": {},
   "outputs": [
    {
     "name": "stdout",
     "output_type": "stream",
     "text": [
      "Can You Enter Number1: 13\n",
      "Can You Enter Number2: 64\n",
      "num1 is bigger than num2:  False\n",
      "num2 is bigger than num1:  True\n"
     ]
    }
   ],
   "source": [
    "num1 = int(input(\"Can You Enter Number1: \"))\n",
    "num2 = int(input(\"Can You Enter Number2: \"))\n",
    "a=num1>num2\n",
    "b= num1<num2\n",
    "print(\"num1 is bigger than num2: \",a)\n",
    "print(\"num2 is bigger than num1: \",b)\n"
   ]
  },
  {
   "cell_type": "code",
   "execution_count": 11,
   "id": "05556288",
   "metadata": {},
   "outputs": [
    {
     "name": "stdout",
     "output_type": "stream",
     "text": [
      "Can You Enter First Exam Score: 100\n",
      "Can You Enter Second Exam Score: 100\n",
      "Can You Enter Final Exam Score: 100\n",
      "100.0\n"
     ]
    }
   ],
   "source": [
    "score1 = int(input(\"Can You Enter First Exam Score: \"))\n",
    "score2 = int(input(\"Can You Enter Second Exam Score: \"))\n",
    "final  = int(input(\"Can You Enter Final Exam Score: \"))\n",
    "total = ((score1+score2)/2*0.6 + final*0.4)\n",
    "print(total)\n"
   ]
  },
  {
   "cell_type": "code",
   "execution_count": 7,
   "id": "d8942bdd",
   "metadata": {},
   "outputs": [
    {
     "name": "stdout",
     "output_type": "stream",
     "text": [
      "Can You Enter Number: 41\n",
      "False\n"
     ]
    }
   ],
   "source": [
    "number = int(input(\"Can You Enter Number: \"))\n",
    "what = number %2 == 0\n",
    "print(what)\n"
   ]
  },
  {
   "cell_type": "code",
   "execution_count": 9,
   "id": "43b480d2",
   "metadata": {},
   "outputs": [
    {
     "name": "stdout",
     "output_type": "stream",
     "text": [
      "Can You Enter Number: -23\n",
      "Is number possitive:  False\n"
     ]
    }
   ],
   "source": [
    "number = int(input(\"Can You Enter Number: \"))\n",
    "np = number>0\n",
    "print(\"Is number possitive: \",np)"
   ]
  },
  {
   "cell_type": "code",
   "execution_count": null,
   "id": "c7976665",
   "metadata": {},
   "outputs": [],
   "source": []
  },
  {
   "cell_type": "code",
   "execution_count": null,
   "id": "36dcbe0a",
   "metadata": {},
   "outputs": [],
   "source": []
  }
 ],
 "metadata": {
  "kernelspec": {
   "display_name": "Python 3 (ipykernel)",
   "language": "python",
   "name": "python3"
  },
  "language_info": {
   "codemirror_mode": {
    "name": "ipython",
    "version": 3
   },
   "file_extension": ".py",
   "mimetype": "text/x-python",
   "name": "python",
   "nbconvert_exporter": "python",
   "pygments_lexer": "ipython3",
   "version": "3.9.13"
  }
 },
 "nbformat": 4,
 "nbformat_minor": 5
}
