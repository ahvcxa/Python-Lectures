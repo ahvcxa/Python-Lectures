{
 "cells": [
  {
   "cell_type": "code",
   "execution_count": 4,
   "id": "1f6ca830",
   "metadata": {},
   "outputs": [],
   "source": [
    "file = open(\"file1.txt\",\"w\",encoding= \"utf-8\") # \"w\" means create new file and delete content and again (write)\n",
    "file.write(\"Mustafa Kemal Atatürk\")\n",
    "file.close()"
   ]
  },
  {
   "cell_type": "code",
   "execution_count": 6,
   "id": "1ecf75c9",
   "metadata": {},
   "outputs": [],
   "source": [
    "file = open(\"file1.txt\",\"a\",encoding= \"utf-8\") # \"a\" means add something (append)\n",
    "file.write(\"\\nMustafa Kemal Atatürk\")\n",
    "file.close()"
   ]
  },
  {
   "cell_type": "code",
   "execution_count": 7,
   "id": "45f58924",
   "metadata": {},
   "outputs": [],
   "source": [
    "file = open(\"file2.txt\",\"x\",encoding= \"utf-8\") # \"x\" (create) If you call twice ,it will give an error\n",
    "file.close()"
   ]
  },
  {
   "cell_type": "code",
   "execution_count": 14,
   "id": "2e265ae6",
   "metadata": {},
   "outputs": [
    {
     "name": "stdout",
     "output_type": "stream",
     "text": [
      "Mustafa Kemal Atatürk\n",
      "\n",
      "Mustafa Kemal Atatürk\n",
      "\n",
      "Mustafa Kemal Atatürk\n"
     ]
    }
   ],
   "source": [
    "file = open(\"file1.txt\",\"r\",encoding= \"utf-8\")\n",
    "\n",
    "for i in file:\n",
    "    print(i)\n",
    "file.close()"
   ]
  },
  {
   "cell_type": "code",
   "execution_count": 15,
   "id": "789b6c9c",
   "metadata": {},
   "outputs": [
    {
     "name": "stdout",
     "output_type": "stream",
     "text": [
      "Mustafa Kemal Atatürk\n",
      "Mustafa Kemal Atatürk\n",
      "Mustafa Kemal Atatürk"
     ]
    }
   ],
   "source": [
    "file = open(\"file1.txt\",\"r\",encoding= \"utf-8\") # \"r\" (read)\n",
    "\n",
    "for i in file:\n",
    "    print(i,end=\"\")\n",
    "file.close()"
   ]
  },
  {
   "cell_type": "code",
   "execution_count": 18,
   "id": "c3d0c837",
   "metadata": {},
   "outputs": [
    {
     "name": "stdout",
     "output_type": "stream",
     "text": [
      "Mustafa Kemal Atatürk\n",
      "Mustafa Kemal Atatürk\n",
      "Mustafa Kemal Atatürk\n"
     ]
    }
   ],
   "source": [
    "file = open(\"file1.txt\",\"r\",encoding= \"utf-8\") # \"r\" (read)\n",
    "content = file.read()\n",
    "print(content)\n",
    "file.close()"
   ]
  },
  {
   "cell_type": "code",
   "execution_count": 29,
   "id": "7919aba3",
   "metadata": {},
   "outputs": [
    {
     "name": "stdout",
     "output_type": "stream",
     "text": [
      "Mustafa Kemal Atatürk\n",
      "\n"
     ]
    }
   ],
   "source": [
    "file = open(\"file1.txt\",\"r\",encoding= \"utf-8\") # \"r\" (read)\n",
    "content = file.readline()\n",
    "file.close()\n",
    "print(content)"
   ]
  },
  {
   "cell_type": "code",
   "execution_count": 30,
   "id": "9552598a",
   "metadata": {},
   "outputs": [
    {
     "name": "stdout",
     "output_type": "stream",
     "text": [
      "['Mustafa Kemal Atatürk\\n', 'Mustafa Kemal Atatürk\\n', 'Mustafa Kemal Atatürk']\n"
     ]
    }
   ],
   "source": [
    "file = open(\"file1.txt\",\"r\",encoding= \"utf-8\") # \"r\" (read)\n",
    "list1 = file.readlines()\n",
    "print(list1)"
   ]
  },
  {
   "cell_type": "code",
   "execution_count": null,
   "id": "69af029e",
   "metadata": {},
   "outputs": [],
   "source": []
  },
  {
   "cell_type": "code",
   "execution_count": 6,
   "id": "249b1269",
   "metadata": {},
   "outputs": [],
   "source": [
    "file = open(\"file3.txt\",\"w\",encoding= \"utf-8\")\n",
    "file.write(\"0123456789abcçdefg\")\n",
    "file.close()"
   ]
  },
  {
   "cell_type": "code",
   "execution_count": 12,
   "id": "35a46e52",
   "metadata": {},
   "outputs": [
    {
     "name": "stdout",
     "output_type": "stream",
     "text": [
      "0\n",
      "0123456789abcçdefg\n",
      "19\n",
      "10\n"
     ]
    }
   ],
   "source": [
    "with open(\"file3.txt\",\"r\",encoding= \"utf-8\") as file: # This code is automatically close file\n",
    "    print(file.tell()) # Where is the cursor \n",
    "    content = file.read()\n",
    "    print(content) \n",
    "    print(file.tell())  # Where is the cursor \n",
    "    file.seek(10) # I send the cursor line 10\n",
    "    print(file.tell())  # Where is the cursor\n"
   ]
  }
 ],
 "metadata": {
  "kernelspec": {
   "display_name": "Python 3 (ipykernel)",
   "language": "python",
   "name": "python3"
  },
  "language_info": {
   "codemirror_mode": {
    "name": "ipython",
    "version": 3
   },
   "file_extension": ".py",
   "mimetype": "text/x-python",
   "name": "python",
   "nbconvert_exporter": "python",
   "pygments_lexer": "ipython3",
   "version": "3.10.5"
  }
 },
 "nbformat": 4,
 "nbformat_minor": 5
}
