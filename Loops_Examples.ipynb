{
 "cells": [
  {
   "cell_type": "code",
   "execution_count": 78,
   "id": "1d9936aa",
   "metadata": {},
   "outputs": [
    {
     "name": "stdout",
     "output_type": "stream",
     "text": [
      "[2, 15, 16, 17, 18, 24, 35, 36, 39, 42]\n"
     ]
    }
   ],
   "source": [
    "import random\n",
    "special = [random.randint(1,50) for y in range(10)]\n",
    "special.sort()\n",
    "print(special)"
   ]
  },
  {
   "cell_type": "code",
   "execution_count": 96,
   "id": "54eaa4b2",
   "metadata": {},
   "outputs": [
    {
     "name": "stdout",
     "output_type": "stream",
     "text": [
      "Can you enter number1 that you guess: 50\n",
      "You should go to up ^-^ \n",
      "Can you enter number2 that you guess: 75\n",
      "You should go to up ^-^ \n",
      "Can you enter number3 that you guess: 87\n",
      "You should go to down ^-^ \n",
      "Can you enter number4 that you guess: 84\n",
      "Congratulations, Perfect Guess ^-^ \n",
      "Special number is 84 \n",
      "You earned 20 point ^-^ \n"
     ]
    }
   ],
   "source": [
    "import random\n",
    "special = random.randint(1,100)\n",
    "x=0\n",
    "while x<4:\n",
    "    guess=int(input(f\"Can you enter number{x+1} that you guess: \"))\n",
    "    if guess < special:\n",
    "        print(\"You should go to up ^-^ \")\n",
    "    elif guess >special:\n",
    "        print(\"You should go to down ^-^ \")\n",
    "    else:\n",
    "        print(\"Congratulations, Perfect Guess ^-^ \")\n",
    "        break\n",
    "    x+=1    \n",
    "print(f\"Special number is {special} \\nYou earned {20*(4-x)} point ^-^ \")   "
   ]
  },
  {
   "cell_type": "code",
   "execution_count": 95,
   "id": "0daccf66",
   "metadata": {},
   "outputs": [
    {
     "name": "stdout",
     "output_type": "stream",
     "text": [
      "Can you enter live numbers: 50\n",
      "Can you enter number1 that you guess: 50\n",
      "\n",
      "You should go to up ^-^ \n",
      "Can you enter number2 that you guess: 75\n",
      "\n",
      "You should go to down ^-^ \n",
      "Can you enter number3 that you guess: 62\n",
      "\n",
      "You should go to up ^-^ \n",
      "Can you enter number4 that you guess: 68\n",
      "\n",
      "You should go to up ^-^ \n",
      "Can you enter number5 that you guess: 72\n",
      "\n",
      "You should go to up ^-^ \n",
      "Can you enter number6 that you guess: 73\n",
      "\n",
      "Congratulations, Perfect Guess ^-^ \n",
      "\n",
      "^-^ You earned 90 point ^-^ \n"
     ]
    }
   ],
   "source": [
    "import random\n",
    "special = random.randint(1,100)\n",
    "x=0\n",
    "live=int(input(\"Can you enter live numbers: \"))\n",
    "while x<live:\n",
    "    guess=int(input(f\"Can you enter number{x+1} that you guess: \"))\n",
    "    if guess < special:\n",
    "        print(\"\\nYou should go to up ^-^ \")\n",
    "    elif guess >special:\n",
    "        print(\"\\nYou should go to down ^-^ \")\n",
    "    else:\n",
    "        print(\"\\nCongratulations, Perfect Guess ^-^ \")\n",
    "        break\n",
    "    x+=1    \n",
    "total= (100/live)*(live-x)        \n",
    "print(f\"\\n^-^ You earned {int(total)} point ^-^ \")   "
   ]
  },
  {
   "cell_type": "code",
   "execution_count": null,
   "id": "c56c38ee",
   "metadata": {},
   "outputs": [],
   "source": [
    "\n"
   ]
  },
  {
   "cell_type": "code",
   "execution_count": 33,
   "id": "89b3978f",
   "metadata": {},
   "outputs": [
    {
     "name": "stdout",
     "output_type": "stream",
     "text": [
      "Can you enter number: 194447848747554774111\n",
      "This isn't prime number\n"
     ]
    }
   ],
   "source": [
    "x=int(input(f\"Can you enter number: \"))\n",
    "y=2\n",
    "prime= True\n",
    "if x ==1 or x == 0:\n",
    "        prime = False\n",
    "        print(\"This isn't prime number\")\n",
    "        \n",
    "while y < x:\n",
    "        \n",
    "    if x%y==0:\n",
    "        print(\"This isn't prime number\")\n",
    "        prime = False\n",
    "        break\n",
    "        \n",
    "    y+=1\n",
    "    \n",
    "if prime == True:\n",
    "    print(\"This is prime number\")\n",
    "    \n",
    "      "
   ]
  },
  {
   "cell_type": "code",
   "execution_count": 50,
   "id": "74ec2345",
   "metadata": {},
   "outputs": [
    {
     "name": "stdout",
     "output_type": "stream",
     "text": [
      "Can you enter number: 998\n",
      "This number is divide 2\n",
      "This number is divide 499\n",
      "\n",
      "This isn't prime number\n"
     ]
    }
   ],
   "source": [
    "x=int(input(f\"Can you enter number: \"))\n",
    "prime= True\n",
    "if x ==1 or x == 0:\n",
    "        prime = False\n",
    "        print(\"This isn't prime number\")\n",
    "for y in range (2,x):\n",
    "    if x%y==0:\n",
    "        prime=False\n",
    "        print(\"This number is divide\",y)\n",
    "if prime == True:\n",
    "    print(\"\\nThis is prime number\")\n",
    "else:\n",
    "    print(\"\\nThis isn't prime number\")"
   ]
  },
  {
   "cell_type": "code",
   "execution_count": null,
   "id": "09be5ccd",
   "metadata": {},
   "outputs": [],
   "source": []
  },
  {
   "cell_type": "code",
   "execution_count": null,
   "id": "3ea33acc",
   "metadata": {},
   "outputs": [],
   "source": []
  }
 ],
 "metadata": {
  "kernelspec": {
   "display_name": "Python 3 (ipykernel)",
   "language": "python",
   "name": "python3"
  },
  "language_info": {
   "codemirror_mode": {
    "name": "ipython",
    "version": 3
   },
   "file_extension": ".py",
   "mimetype": "text/x-python",
   "name": "python",
   "nbconvert_exporter": "python",
   "pygments_lexer": "ipython3",
   "version": "3.9.13"
  }
 },
 "nbformat": 4,
 "nbformat_minor": 5
}
