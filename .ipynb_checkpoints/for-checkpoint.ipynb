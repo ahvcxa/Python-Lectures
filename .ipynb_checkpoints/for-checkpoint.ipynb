{
 "cells": [
  {
   "cell_type": "markdown",
   "id": "8c595a59",
   "metadata": {},
   "source": [
    "# FOR"
   ]
  },
  {
   "cell_type": "code",
   "execution_count": 1,
   "id": "da5226c3",
   "metadata": {},
   "outputs": [
    {
     "name": "stdout",
     "output_type": "stream",
     "text": [
      "3\n",
      "9\n",
      "12\n",
      "21\n"
     ]
    }
   ],
   "source": [
    "numbers = [1,3,5,7,9,12,19,21]\n",
    "for x in numbers:\n",
    "    if x%3==0:\n",
    "        print(x)"
   ]
  },
  {
   "cell_type": "code",
   "execution_count": 10,
   "id": "c430411c",
   "metadata": {},
   "outputs": [
    {
     "name": "stdout",
     "output_type": "stream",
     "text": [
      "77\n"
     ]
    }
   ],
   "source": [
    "numbers = [1,3,5,7,9,12,19,21]\n",
    "total=0\n",
    "for y in numbers:\n",
    "    total=total+y\n",
    "print(total)"
   ]
  },
  {
   "cell_type": "code",
   "execution_count": 14,
   "id": "4ae522c3",
   "metadata": {},
   "outputs": [
    {
     "name": "stdout",
     "output_type": "stream",
     "text": [
      "1\n",
      "9\n",
      "25\n",
      "49\n",
      "81\n",
      "361\n",
      "441\n"
     ]
    }
   ],
   "source": [
    "numbers = [1,3,5,7,9,12,19,21]\n",
    "for x in numbers:\n",
    "    if not x%2==0:\n",
    "        print(x**2)"
   ]
  },
  {
   "cell_type": "code",
   "execution_count": 39,
   "id": "00322c3c",
   "metadata": {},
   "outputs": [
    {
     "name": "stdout",
     "output_type": "stream",
     "text": [
      "Izmir\n",
      "Rize\n"
     ]
    }
   ],
   "source": [
    "\n",
    "city = [\"Kocaeli\",\"Istanbul\",\"Ankara\",\"Izmir\",\"Rize\"]\n",
    "for i in city:\n",
    "    c=0\n",
    "    for y in i:\n",
    "        c=c+1\n",
    "    if c<=5:\n",
    "        print(i)\n",
    "        \n",
    "    "
   ]
  },
  {
   "cell_type": "code",
   "execution_count": 73,
   "id": "c3d9fdd6",
   "metadata": {},
   "outputs": [
    {
     "name": "stdout",
     "output_type": "stream",
     "text": [
      "18000\n"
     ]
    }
   ],
   "source": [
    "products = [\n",
    "    {\"name\":\"Samsung S6\",\"price\":\"3000\"},\n",
    "    {\"name\":\"Samsung S7\",\"price\":\"4000\"},\n",
    "    {\"name\":\"Samsung S8\",\"price\":\"5000\"},\n",
    "    {\"name\":\"Samsung S9\",\"price\":\"6000\"}\n",
    "]\n",
    "y=0\n",
    "total=0\n",
    "for x in products:\n",
    "    price = products[y][\"price\"]\n",
    "    total = total +int(price)\n",
    "    y+=1\n",
    "print(total)    "
   ]
  },
  {
   "cell_type": "code",
   "execution_count": 87,
   "id": "aaa654d4",
   "metadata": {},
   "outputs": [
    {
     "name": "stdout",
     "output_type": "stream",
     "text": [
      "3000 $ the price of Samsung S6\n",
      "4000 $ the price of Samsung S7\n"
     ]
    }
   ],
   "source": [
    "y=0\n",
    "strr=\"$ the price of\"\n",
    "for x in products:\n",
    "    price = products[y][\"price\"]\n",
    "    y+=1\n",
    "    if int(price)<=4000:\n",
    "        print(price,strr,x[\"name\"])\n",
    "\n",
    "    \n",
    "    "
   ]
  },
  {
   "cell_type": "code",
   "execution_count": null,
   "id": "948dea8a",
   "metadata": {},
   "outputs": [],
   "source": []
  }
 ],
 "metadata": {
  "kernelspec": {
   "display_name": "Python 3 (ipykernel)",
   "language": "python",
   "name": "python3"
  },
  "language_info": {
   "codemirror_mode": {
    "name": "ipython",
    "version": 3
   },
   "file_extension": ".py",
   "mimetype": "text/x-python",
   "name": "python",
   "nbconvert_exporter": "python",
   "pygments_lexer": "ipython3",
   "version": "3.9.13"
  }
 },
 "nbformat": 4,
 "nbformat_minor": 5
}
