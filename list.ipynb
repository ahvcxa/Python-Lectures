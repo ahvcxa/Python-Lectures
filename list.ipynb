{
 "cells": [
  {
   "cell_type": "markdown",
   "id": "ca09a86e",
   "metadata": {},
   "source": [
    "# LIST"
   ]
  },
  {
   "cell_type": "code",
   "execution_count": 1,
   "id": "546eb06b",
   "metadata": {},
   "outputs": [
    {
     "name": "stdout",
     "output_type": "stream",
     "text": [
      "['Audi', 'Bmw', 'Mazda', 'Opel']\n"
     ]
    }
   ],
   "source": [
    "brand = [\"Audi\",\"Bmw\",\"Mazda\", \"Opel\"]\n",
    "print(brand)"
   ]
  },
  {
   "cell_type": "code",
   "execution_count": 3,
   "id": "c06ea802",
   "metadata": {},
   "outputs": [
    {
     "data": {
      "text/plain": [
       "4"
      ]
     },
     "execution_count": 3,
     "metadata": {},
     "output_type": "execute_result"
    }
   ],
   "source": [
    "len(brand)"
   ]
  },
  {
   "cell_type": "code",
   "execution_count": 6,
   "id": "41d0b2b8",
   "metadata": {},
   "outputs": [
    {
     "name": "stdout",
     "output_type": "stream",
     "text": [
      "Audi\n",
      "Opel\n"
     ]
    }
   ],
   "source": [
    "print(brand[0])\n",
    "print(brand[3])"
   ]
  },
  {
   "cell_type": "code",
   "execution_count": 10,
   "id": "54efeca1",
   "metadata": {},
   "outputs": [
    {
     "name": "stdout",
     "output_type": "stream",
     "text": [
      "['Audi', 'Bmw', 'Toyota', 'Opel']\n"
     ]
    }
   ],
   "source": [
    "brand.pop(2)\n",
    "brand.insert(2,\"Toyota\")\n",
    "print(brand)"
   ]
  },
  {
   "cell_type": "code",
   "execution_count": 12,
   "id": "a27aa79c",
   "metadata": {},
   "outputs": [
    {
     "ename": "ValueError",
     "evalue": "'Mercedes' is not in list",
     "output_type": "error",
     "traceback": [
      "\u001b[0;31m---------------------------------------------------------------------------\u001b[0m",
      "\u001b[0;31mValueError\u001b[0m                                Traceback (most recent call last)",
      "\u001b[0;32m/tmp/ipykernel_14732/2858938475.py\u001b[0m in \u001b[0;36m<module>\u001b[0;34m\u001b[0m\n\u001b[0;32m----> 1\u001b[0;31m \u001b[0ma\u001b[0m \u001b[0;34m=\u001b[0m \u001b[0mbrand\u001b[0m\u001b[0;34m.\u001b[0m\u001b[0mindex\u001b[0m\u001b[0;34m(\u001b[0m\u001b[0;34m\"Mercedes\"\u001b[0m\u001b[0;34m)\u001b[0m\u001b[0;34m\u001b[0m\u001b[0;34m\u001b[0m\u001b[0m\n\u001b[0m",
      "\u001b[0;31mValueError\u001b[0m: 'Mercedes' is not in list"
     ]
    }
   ],
   "source": [
    "brand.index(\"Mercedes\")"
   ]
  },
  {
   "cell_type": "code",
   "execution_count": 16,
   "id": "d1aa0fdb",
   "metadata": {},
   "outputs": [
    {
     "name": "stdout",
     "output_type": "stream",
     "text": [
      "Toyota\n",
      "['Audi', 'Bmw']\n"
     ]
    }
   ],
   "source": [
    "print(brand[-2])\n",
    "print(brand[0:2])\n"
   ]
  },
  {
   "cell_type": "code",
   "execution_count": 23,
   "id": "16195c08",
   "metadata": {},
   "outputs": [
    {
     "name": "stdout",
     "output_type": "stream",
     "text": [
      "['Audi', 'Bmw', 'Toyota', 'Opel', 'Renault', 'Skoda']\n"
     ]
    }
   ],
   "source": [
    "brand.append(\"Renault\")\n",
    "brand.append(\"Skoda\")\n",
    "print(brand)"
   ]
  },
  {
   "cell_type": "code",
   "execution_count": 32,
   "id": "0ae5434c",
   "metadata": {},
   "outputs": [
    {
     "name": "stdout",
     "output_type": "stream",
     "text": [
      "['Audi', 'Bmw', 'Toyota', 'Opel', 'Renault', 'Skoda']\n",
      "['Skoda', 'Renault', 'Opel', 'Toyota', 'Bmw', 'Audi']\n"
     ]
    }
   ],
   "source": [
    "brand.reverse()\n",
    "print(brand)\n",
    "brand.reverse()\n",
    "print(brand)\n"
   ]
  },
  {
   "cell_type": "code",
   "execution_count": 35,
   "id": "941b18da",
   "metadata": {},
   "outputs": [
    {
     "name": "stdout",
     "output_type": "stream",
     "text": [
      "[['Yiğit Bilgi', 2010, (100, 50, 70)], ['Sena Turan', 2018, (60, 80, 80)], ['Ahmet Turan', 2020, (10, 30, 90)]]\n",
      "['Yiğit Bilgi', 2010, (100, 50, 70)]\n",
      "Yiğit Bilgi\n"
     ]
    }
   ],
   "source": [
    "studentA = [\"Yiğit Bilgi\",2010,(100,50,70)]\n",
    "studentB = [\"Sena Turan\",2018,(60,80,80)]\n",
    "studentC = [\"Ahmet Turan\",2020,(10,30,90)]\n",
    "students = [studentA,studentB,studentC]\n",
    "print(students)\n",
    "print(students[0])\n",
    "print(students[0][0])\n",
    "\n"
   ]
  },
  {
   "cell_type": "code",
   "execution_count": 37,
   "id": "d4d46db5",
   "metadata": {},
   "outputs": [
    {
     "name": "stdout",
     "output_type": "stream",
     "text": [
      "['Skoda', 'Renault', 'Opel', 'Toyota', 'Bmw', 'Audi', 'Ferrari']\n"
     ]
    }
   ],
   "source": [
    "brand = brand +[\"Ferrari\"]\n",
    "print(brand)"
   ]
  },
  {
   "cell_type": "code",
   "execution_count": 38,
   "id": "8a4cea92",
   "metadata": {},
   "outputs": [
    {
     "name": "stdout",
     "output_type": "stream",
     "text": [
      "['Skoda', 'Renault', 'Opel', 'Toyota', 'Bmw', 'Audi', 'Ferrari', 'Porshe', 'volkswagen']\n"
     ]
    }
   ],
   "source": [
    "brand = brand +[\"Porshe\",\"volkswagen\"]\n",
    "print(brand)\n"
   ]
  },
  {
   "cell_type": "markdown",
   "id": "d982efd5",
   "metadata": {},
   "source": [
    "# LIST METHODS"
   ]
  },
  {
   "cell_type": "code",
   "execution_count": 72,
   "id": "0209759d",
   "metadata": {},
   "outputs": [],
   "source": [
    "names = [\"Ali\", \"Yağmur\", \"Hakan\", \"Deniz\"]\n",
    "years = [1998,2000,1998,1987]\n"
   ]
  },
  {
   "cell_type": "code",
   "execution_count": 45,
   "id": "22b5722b",
   "metadata": {},
   "outputs": [
    {
     "data": {
      "text/plain": [
       "3"
      ]
     },
     "execution_count": 45,
     "metadata": {},
     "output_type": "execute_result"
    }
   ],
   "source": [
    "names.index(\"Deniz\")"
   ]
  },
  {
   "cell_type": "code",
   "execution_count": 51,
   "id": "db115daf",
   "metadata": {},
   "outputs": [
    {
     "data": {
      "text/plain": [
       "2000"
      ]
     },
     "execution_count": 51,
     "metadata": {},
     "output_type": "execute_result"
    }
   ],
   "source": [
    "max(years)"
   ]
  },
  {
   "cell_type": "code",
   "execution_count": 52,
   "id": "78111511",
   "metadata": {},
   "outputs": [
    {
     "data": {
      "text/plain": [
       "1987"
      ]
     },
     "execution_count": 52,
     "metadata": {},
     "output_type": "execute_result"
    }
   ],
   "source": [
    "min(years)"
   ]
  },
  {
   "cell_type": "code",
   "execution_count": 75,
   "id": "507bd042",
   "metadata": {},
   "outputs": [
    {
     "name": "stdout",
     "output_type": "stream",
     "text": [
      "[1987, 1998, 1998, 2000]\n"
     ]
    }
   ],
   "source": [
    "years.sort()\n",
    "print(years)"
   ]
  },
  {
   "cell_type": "code",
   "execution_count": 76,
   "id": "410d13fe",
   "metadata": {},
   "outputs": [
    {
     "data": {
      "text/plain": [
       "2"
      ]
     },
     "execution_count": 76,
     "metadata": {},
     "output_type": "execute_result"
    }
   ],
   "source": [
    "years.count(1998)"
   ]
  },
  {
   "cell_type": "code",
   "execution_count": 77,
   "id": "6116bc52",
   "metadata": {},
   "outputs": [
    {
     "name": "stdout",
     "output_type": "stream",
     "text": [
      "Can You Enter Brand: LC\n",
      "Can You Enter Brand: JACK JONES\n",
      "['LC', 'JACK JONES']\n"
     ]
    }
   ],
   "source": [
    "brands = []\n",
    "brand1 = input(\"Can You Enter Brand: \")\n",
    "brand2 = input(\"Can You Enter Brand: \")\n",
    "brands.append(brand1)\n",
    "brands.append(brand2)\n",
    "print(brands)"
   ]
  },
  {
   "cell_type": "code",
   "execution_count": 89,
   "id": "6df6a7f3",
   "metadata": {},
   "outputs": [
    {
     "name": "stdout",
     "output_type": "stream",
     "text": [
      "Can You Enter Brand: A\n",
      "Can You Enter Brand: B\n",
      "Can You Enter Brand: C\n",
      "['A', 'B', 'C']\n"
     ]
    }
   ],
   "source": [
    "brands = []\n",
    "for x in range(3):\n",
    "    brandx = input(\"Can You Enter Brand: \")\n",
    "    brands.append(brandx)\n",
    "print(brands)\n",
    "    \n",
    "    \n"
   ]
  },
  {
   "cell_type": "code",
   "execution_count": null,
   "id": "a43e5a2e",
   "metadata": {},
   "outputs": [],
   "source": []
  }
 ],
 "metadata": {
  "kernelspec": {
   "display_name": "Python 3 (ipykernel)",
   "language": "python",
   "name": "python3"
  },
  "language_info": {
   "codemirror_mode": {
    "name": "ipython",
    "version": 3
   },
   "file_extension": ".py",
   "mimetype": "text/x-python",
   "name": "python",
   "nbconvert_exporter": "python",
   "pygments_lexer": "ipython3",
   "version": "3.9.13"
  }
 },
 "nbformat": 4,
 "nbformat_minor": 5
}
