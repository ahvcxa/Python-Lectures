{
 "cells": [
  {
   "cell_type": "markdown",
   "id": "297f2e91",
   "metadata": {},
   "source": [
    "# IF , ELSE , ELIF"
   ]
  },
  {
   "cell_type": "code",
   "execution_count": 2,
   "id": "1da58aad",
   "metadata": {},
   "outputs": [
    {
     "name": "stdout",
     "output_type": "stream",
     "text": [
      "exam1: 100\n",
      "exam2: 2\n",
      "exam3: 44\n",
      "48.666666666666664\n",
      "2\n"
     ]
    }
   ],
   "source": [
    "score1 = int(input(\"exam1: \"))\n",
    "score2 = int(input(\"exam2: \"))\n",
    "score3 = int(input(\"exam3: \"))\n",
    "total = (score1+score2+score3)/3\n",
    "print(total)\n",
    "if total >84:\n",
    "    print(\"5\")\n",
    "elif total >69 and total <85:\n",
    "    print(\"4\")\n",
    "elif total >49 and total <70:\n",
    "    print(\"3\")\n",
    "elif total >24 and total <50:\n",
    "    print(\"2\")\n",
    "else:\n",
    "    print(\"0\")"
   ]
  },
  {
   "cell_type": "code",
   "execution_count": 20,
   "id": "09c3aac6",
   "metadata": {},
   "outputs": [
    {
     "name": "stdout",
     "output_type": "stream",
     "text": [
      "Number: 56\n",
      "True\n"
     ]
    }
   ],
   "source": [
    "num = int(input(\"Number: \"))\n",
    "if num >50 and num <100:\n",
    "    print(\"True\")\n",
    "else:\n",
    "    print(\"False\")\n"
   ]
  },
  {
   "cell_type": "code",
   "execution_count": null,
   "id": "222f6bda",
   "metadata": {},
   "outputs": [],
   "source": []
  }
 ],
 "metadata": {
  "kernelspec": {
   "display_name": "Python 3 (ipykernel)",
   "language": "python",
   "name": "python3"
  },
  "language_info": {
   "codemirror_mode": {
    "name": "ipython",
    "version": 3
   },
   "file_extension": ".py",
   "mimetype": "text/x-python",
   "name": "python",
   "nbconvert_exporter": "python",
   "pygments_lexer": "ipython3",
   "version": "3.9.13"
  }
 },
 "nbformat": 4,
 "nbformat_minor": 5
}
