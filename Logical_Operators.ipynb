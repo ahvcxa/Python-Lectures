{
 "cells": [
  {
   "cell_type": "markdown",
   "id": "9e62f690",
   "metadata": {},
   "source": [
    "# LOGICAL OPERATORS"
   ]
  },
  {
   "cell_type": "code",
   "execution_count": 7,
   "id": "b0f1e203",
   "metadata": {},
   "outputs": [
    {
     "name": "stdout",
     "output_type": "stream",
     "text": [
      "Number: 57\n",
      "False\n"
     ]
    }
   ],
   "source": [
    "num = int(input(\"Number: \"))\n",
    "result = (num>50) and (num<100) and (num %2==0)\n",
    "print(result)"
   ]
  },
  {
   "cell_type": "code",
   "execution_count": 10,
   "id": "04d5a98b",
   "metadata": {},
   "outputs": [
    {
     "name": "stdout",
     "output_type": "stream",
     "text": [
      "Name: ahvcxa\n",
      "Password: 123456\n",
      "True\n"
     ]
    }
   ],
   "source": [
    "name = \"ahvcxa\"\n",
    "password = \"123456\"\n",
    "Ename = input(\"Name: \")\n",
    "Epassword = input(\"Password: \")\n",
    "result = name==Ename and password == Epassword\n",
    "print(result)"
   ]
  },
  {
   "cell_type": "code",
   "execution_count": 13,
   "id": "5df2f7f6",
   "metadata": {},
   "outputs": [
    {
     "name": "stdout",
     "output_type": "stream",
     "text": [
      "Number1: 4\n",
      "Number2: 66\n",
      "Number3: 76\n",
      "num1 is the biggest:  False\n",
      "num2 is the biggest:  False\n",
      "num3 is the biggest:  True\n"
     ]
    }
   ],
   "source": [
    "num1 = int(input(\"Number1: \"))\n",
    "num2 = int(input(\"Number2: \"))\n",
    "num3 = int(input(\"Number3: \"))\n",
    "\n",
    "result = (num1 > num2) and (num2>num3)\n",
    "print(\"num1 is the biggest: \",result)\n",
    "\n",
    "result = (num2 > num1) and (num1>num3)\n",
    "print(\"num2 is the biggest: \",result)\n",
    "\n",
    "result = (num3 > num2) and (num2>num1)\n",
    "print(\"num3 is the biggest: \",result)\n"
   ]
  },
  {
   "cell_type": "code",
   "execution_count": 15,
   "id": "1327ed02",
   "metadata": {},
   "outputs": [
    {
     "name": "stdout",
     "output_type": "stream",
     "text": [
      "Can You Enter First Exam Score: 100\n",
      "Can You Enter Second Exam Score: 60\n",
      "Can You Enter Final Exam Score: 34\n",
      "Your Score = 61.6\n",
      "Did you pass:  True\n"
     ]
    }
   ],
   "source": [
    "score1 = int(input(\"Can You Enter First Exam Score: \"))\n",
    "score2 = int(input(\"Can You Enter Second Exam Score: \"))\n",
    "final  = int(input(\"Can You Enter Final Exam Score: \"))\n",
    "total = ((score1+score2)/2*0.6 + final*0.4)\n",
    "result = total >=50\n",
    "print(f\"Your Score = {total}\\nDid you pass: \",result)"
   ]
  },
  {
   "cell_type": "code",
   "execution_count": 16,
   "id": "4dde3af7",
   "metadata": {},
   "outputs": [
    {
     "name": "stdout",
     "output_type": "stream",
     "text": [
      "Can You Enter First Exam Score: 100\n",
      "Can You Enter Second Exam Score: 100\n",
      "Can You Enter Final Exam Score: 49\n",
      "Your Score = 79.6\n",
      "Did you pass:  False\n"
     ]
    }
   ],
   "source": [
    "score1 = int(input(\"Can You Enter First Exam Score: \"))\n",
    "score2 = int(input(\"Can You Enter Second Exam Score: \"))\n",
    "final  = int(input(\"Can You Enter Final Exam Score: \"))\n",
    "total = ((score1+score2)/2*0.6 + final*0.4)\n",
    "result = total >=50 and final >=50\n",
    "print(f\"Your Score = {total}\\nDid you pass: \",result)"
   ]
  },
  {
   "cell_type": "code",
   "execution_count": 17,
   "id": "84e81f5e",
   "metadata": {},
   "outputs": [
    {
     "name": "stdout",
     "output_type": "stream",
     "text": [
      "Can You Enter First Exam Score: 10\n",
      "Can You Enter Second Exam Score: 10\n",
      "Can You Enter Final Exam Score: 71\n",
      "Your Score = 34.400000000000006\n",
      "Did you pass:  True\n"
     ]
    }
   ],
   "source": [
    "score1 = int(input(\"Can You Enter First Exam Score: \"))\n",
    "score2 = int(input(\"Can You Enter Second Exam Score: \"))\n",
    "final  = int(input(\"Can You Enter Final Exam Score: \"))\n",
    "total = ((score1+score2)/2*0.6 + final*0.4)\n",
    "result = total >=50 or final>=70\n",
    "print(f\"Your Score = {total}\\nDid you pass: \",result)"
   ]
  },
  {
   "cell_type": "code",
   "execution_count": 22,
   "id": "138d96a4",
   "metadata": {},
   "outputs": [
    {
     "name": "stdout",
     "output_type": "stream",
     "text": [
      "(kg)Weight: 80\n",
      "(m)Length: 1.80\n",
      "24.691358024691358\n",
      "weak:  False\n",
      "normal:  True\n",
      "fat:  False\n",
      "obese:  False\n"
     ]
    }
   ],
   "source": [
    "weight = float(input(\"(kg)Weight: \"))\n",
    "length = float(input(\"(m)Length: \"))\n",
    "formula = weight/ length**2\n",
    "weak = formula>0 and formula <= 18.4\n",
    "normal = formula>=18.5 and formula <= 24.9\n",
    "fat = formula>=25 and formula <= 29.9\n",
    "obese = formula>=30 and formula <= 34.9\n",
    "\n",
    "print(formula)\n",
    "print(\"weak: \",weak)\n",
    "print(\"normal: \",normal)\n",
    "print(\"fat: \",fat)\n",
    "print(\"obese: \",obese)\n",
    "\n",
    "\n",
    "\n"
   ]
  },
  {
   "cell_type": "code",
   "execution_count": 23,
   "id": "ca6323a6",
   "metadata": {},
   "outputs": [],
   "source": [
    "x = y = [1,2,3]\n",
    "z= [1,2,3]"
   ]
  },
  {
   "cell_type": "code",
   "execution_count": 24,
   "id": "ed5cd00d",
   "metadata": {},
   "outputs": [
    {
     "name": "stdout",
     "output_type": "stream",
     "text": [
      "True\n"
     ]
    }
   ],
   "source": [
    "print(x==z)"
   ]
  },
  {
   "cell_type": "code",
   "execution_count": 25,
   "id": "f77f761d",
   "metadata": {},
   "outputs": [
    {
     "name": "stdout",
     "output_type": "stream",
     "text": [
      "False\n"
     ]
    }
   ],
   "source": [
    "print(x is z)"
   ]
  },
  {
   "cell_type": "code",
   "execution_count": 26,
   "id": "3fc51ede",
   "metadata": {},
   "outputs": [
    {
     "name": "stdout",
     "output_type": "stream",
     "text": [
      "True\n"
     ]
    }
   ],
   "source": [
    "print(x is y)"
   ]
  },
  {
   "cell_type": "code",
   "execution_count": null,
   "id": "43e56abd",
   "metadata": {},
   "outputs": [],
   "source": []
  }
 ],
 "metadata": {
  "kernelspec": {
   "display_name": "Python 3 (ipykernel)",
   "language": "python",
   "name": "python3"
  },
  "language_info": {
   "codemirror_mode": {
    "name": "ipython",
    "version": 3
   },
   "file_extension": ".py",
   "mimetype": "text/x-python",
   "name": "python",
   "nbconvert_exporter": "python",
   "pygments_lexer": "ipython3",
   "version": "3.9.13"
  }
 },
 "nbformat": 4,
 "nbformat_minor": 5
}
