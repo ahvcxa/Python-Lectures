{
 "cells": [
  {
   "cell_type": "code",
   "execution_count": 31,
   "id": "c282eda8",
   "metadata": {},
   "outputs": [],
   "source": [
    "with open(\"file4.txt\",\"w\",encoding=\"utf-8\") as file:\n",
    "    file.write(\"Batuhan Kuş\\n\")\n",
    "    file.write(\"Hazal Kelebek\\n\")\n",
    "    file.write(\"Leyla Böcek\")\n",
    "    "
   ]
  },
  {
   "cell_type": "code",
   "execution_count": 5,
   "id": "5de3f2bf",
   "metadata": {},
   "outputs": [
    {
     "name": "stdout",
     "output_type": "stream",
     "text": [
      "Batuhan Kuş\n",
      "Hazal Kelebek\n",
      "Leyla Böcek\n"
     ]
    }
   ],
   "source": [
    "with open(\"file4.txt\",\"r\",encoding=\"utf-8\") as file:\n",
    "    print(file.read())"
   ]
  },
  {
   "cell_type": "code",
   "execution_count": 6,
   "id": "8bf7cb31",
   "metadata": {},
   "outputs": [
    {
     "name": "stdout",
     "output_type": "stream",
     "text": [
      "Keçian Kuş\n",
      "Hazal Kelebek\n",
      "Leyla Böcek\n"
     ]
    }
   ],
   "source": [
    "with open(\"file4.txt\",\"r+\",encoding=\"utf-8\") as file: # \"r+\"  means write and read\n",
    "    file.write(\"Keçi\")\n",
    "with open(\"file4.txt\",\"r\",encoding=\"utf-8\") as file:\n",
    "    print(file.read())    "
   ]
  },
  {
   "cell_type": "code",
   "execution_count": 12,
   "id": "2f5134f4",
   "metadata": {},
   "outputs": [
    {
     "name": "stdout",
     "output_type": "stream",
     "text": [
      "Batuhan kuş\n",
      "Hazal Kelebek\n",
      "Leyla Böcek\n"
     ]
    }
   ],
   "source": [
    "with open(\"file4.txt\",\"r+\",encoding=\"utf-8\") as file:\n",
    "    file.write(\"Batuhan kuş\\n\")\n",
    "with open(\"file4.txt\",\"r\",encoding=\"utf-8\") as file:\n",
    "    print(file.read())    "
   ]
  },
  {
   "cell_type": "code",
   "execution_count": 32,
   "id": "0b336d57",
   "metadata": {
    "scrolled": true
   },
   "outputs": [
    {
     "name": "stdout",
     "output_type": "stream",
     "text": [
      "Batuhan Kuş\n",
      "Hazal Kelebek\n",
      "Leyla Böcek\n",
      "Yasemin Çiçek\n"
     ]
    }
   ],
   "source": [
    "with open(\"file4.txt\",\"a\",encoding=\"utf-8\") as file:\n",
    "    file.write(\"\\nYasemin Çiçek\")\n",
    "with open(\"file4.txt\",\"r\",encoding=\"utf-8\") as file:\n",
    "    print(file.read())    "
   ]
  },
  {
   "cell_type": "code",
   "execution_count": 33,
   "id": "1ee6bbb8",
   "metadata": {},
   "outputs": [
    {
     "name": "stdout",
     "output_type": "stream",
     "text": [
      "Yaren ağaç\n",
      "Batuhan Kuş\n",
      "Hazal Kelebek\n",
      "Leyla Böcek\n",
      "Yasemin Çiçek\n"
     ]
    }
   ],
   "source": [
    "#Updating first line of the page \n",
    "with open(\"file4.txt\",\"r+\",encoding=\"utf-8\") as file:\n",
    "    content = file.read()\n",
    "    content = \"Yaren ağaç\\n\"+ content\n",
    "    file.seek(0)\n",
    "    file.write(content)\n",
    "with open(\"file4.txt\",\"r\",encoding=\"utf-8\") as file:\n",
    "    print(file.read())        "
   ]
  },
  {
   "cell_type": "code",
   "execution_count": 34,
   "id": "c00cb92f",
   "metadata": {},
   "outputs": [
    {
     "name": "stdout",
     "output_type": "stream",
     "text": [
      "Yaren ağaç\n",
      "Batuhan Kuş\n",
      "Elif kurbağa\n",
      "Hazal Kelebek\n",
      "Leyla Böcek\n",
      "Yasemin Çiçek\n"
     ]
    }
   ],
   "source": [
    "#Updating middle of the page \n",
    "with open(\"file4.txt\",\"r+\",encoding=\"utf-8\") as file:\n",
    "    list = file.readlines()\n",
    "    list.insert(2,\"Elif kurbağa\\n\")\n",
    "    file.seek(0)\n",
    "    for i in list:\n",
    "        file.write(i)\n",
    "with open(\"file4.txt\",\"r\",encoding=\"utf-8\") as file:\n",
    "    print(file.read())        "
   ]
  },
  {
   "cell_type": "code",
   "execution_count": 35,
   "id": "3a64d95a",
   "metadata": {},
   "outputs": [
    {
     "name": "stdout",
     "output_type": "stream",
     "text": [
      "Yaren ağaç\n",
      "Batuhan Kuş\n",
      "Sümeyye Ornitorenk\n",
      "Elif kurbağa\n",
      "Hazal Kelebek\n",
      "Leyla Böcek\n",
      "Yasemin Çiçek\n"
     ]
    }
   ],
   "source": [
    "with open(\"file4.txt\",\"r+\",encoding=\"utf-8\") as file:\n",
    "    list = file.readlines()\n",
    "    list.insert(2,\"Sümeyye Ornitorenk\\n\")\n",
    "    file.seek(0)\n",
    "    file.writelines(list)\n",
    "with open(\"file4.txt\",\"r\",encoding=\"utf-8\") as file:\n",
    "    print(file.read())        "
   ]
  }
 ],
 "metadata": {
  "kernelspec": {
   "display_name": "Python 3 (ipykernel)",
   "language": "python",
   "name": "python3"
  },
  "language_info": {
   "codemirror_mode": {
    "name": "ipython",
    "version": 3
   },
   "file_extension": ".py",
   "mimetype": "text/x-python",
   "name": "python",
   "nbconvert_exporter": "python",
   "pygments_lexer": "ipython3",
   "version": "3.10.5"
  }
 },
 "nbformat": 4,
 "nbformat_minor": 5
}
