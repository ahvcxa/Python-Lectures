{
 "cells": [
  {
   "cell_type": "code",
   "execution_count": 29,
   "id": "949ac2ac",
   "metadata": {
    "scrolled": true
   },
   "outputs": [
    {
     "name": "stdout",
     "output_type": "stream",
     "text": [
      "Can you enter your name: Batuhan             \n",
      "Can you enter your password: 123456\n",
      "Can you enter your password again: 123456\n",
      "Wellcome Batuhan             \n"
     ]
    }
   ],
   "source": [
    "name= \"\" #false\n",
    "password = \"\" #false\n",
    "password2 = \"\"\n",
    "\n",
    "while not name.strip() or not password.strip()or a==False:\n",
    "    name = input(\"Can you enter your name: \")\n",
    "    password=input(\"Can you enter your password: \")\n",
    "    password2=input(\"Can you enter your password again: \")\n",
    "    if not password==password2:\n",
    "        print(\"Password false! Try again\")\n",
    "        a=False\n",
    "        continue\n",
    "    else:\n",
    "        print(f\"Wellcome {name}\")\n",
    "        break\n",
    "   "
   ]
  },
  {
   "cell_type": "code",
   "execution_count": null,
   "id": "bc1bb13e",
   "metadata": {},
   "outputs": [],
   "source": []
  },
  {
   "cell_type": "code",
   "execution_count": 30,
   "id": "55257ae1",
   "metadata": {},
   "outputs": [
    {
     "name": "stdout",
     "output_type": "stream",
     "text": [
      "Can you enter your name: Batuhan\n",
      "Can you enter your password: 123456\n",
      "Can you enter your password again: 123\n",
      "Password false! Try again\n",
      "Can you enter your name: Batuhan\n",
      "Can you enter your password: 123456\n",
      "Can you enter your password again: 123456\n",
      "Wellcome Batuhan\n"
     ]
    }
   ],
   "source": [
    "name= \"\" #false\n",
    "password = \"\" #false\n",
    "password2 = \"\"\n",
    "\n",
    "while not name.strip() or not password.strip()or a==False:\n",
    "    name = input(\"Can you enter your name: \")\n",
    "    password=input(\"Can you enter your password: \")\n",
    "    password2=input(\"Can you enter your password again: \")\n",
    "    if not password==password2:\n",
    "        print(\"Password false! Try again\")\n",
    "        a=False\n",
    "        continue\n",
    "    else:\n",
    "        print(f\"Wellcome {name}\")\n",
    "        break\n"
   ]
  },
  {
   "cell_type": "markdown",
   "id": "7b758f0d",
   "metadata": {},
   "source": [
    "# EXAMPLES"
   ]
  },
  {
   "cell_type": "code",
   "execution_count": 4,
   "id": "5b4813c9",
   "metadata": {},
   "outputs": [
    {
     "name": "stdout",
     "output_type": "stream",
     "text": [
      "1\n",
      "3\n",
      "5\n",
      "7\n",
      "9\n",
      "12\n",
      "19\n",
      "21\n"
     ]
    }
   ],
   "source": [
    "Numbers = [1,3,5,7,9,12,19,21]\n",
    "i=0\n",
    "while(i < len(Numbers)):\n",
    "    print(Numbers[i])\n",
    "    i+=1"
   ]
  },
  {
   "cell_type": "code",
   "execution_count": 18,
   "id": "b56b85eb",
   "metadata": {},
   "outputs": [
    {
     "name": "stdout",
     "output_type": "stream",
     "text": [
      "Can you enter first number: 7\n",
      "Can you enter last number: 20\n",
      "7\n",
      "9\n",
      "11\n",
      "13\n",
      "15\n",
      "17\n",
      "19\n"
     ]
    }
   ],
   "source": [
    "first = int(input(\"Can you enter first number: \"))\n",
    "last = int(input(\"Can you enter last number: \"))\n",
    "if first%2==0:\n",
    "    first+=1\n",
    "num=first\n",
    "while(num < last):\n",
    "    print(num)\n",
    "    num+=2\n",
    "    "
   ]
  },
  {
   "cell_type": "code",
   "execution_count": 21,
   "id": "91fba4f2",
   "metadata": {},
   "outputs": [
    {
     "name": "stdout",
     "output_type": "stream",
     "text": [
      "Can you enter first number: 7\n",
      "Can you enter last number: 20\n",
      "7\n",
      "9\n",
      "11\n",
      "13\n",
      "15\n",
      "17\n",
      "19\n"
     ]
    }
   ],
   "source": [
    "first = int(input(\"Can you enter first number: \"))\n",
    "last = int(input(\"Can you enter last number: \"))\n",
    "num=first\n",
    "while(num < last):\n",
    "    if num%2==1:\n",
    "        print(num)\n",
    "    num+=1    "
   ]
  },
  {
   "cell_type": "code",
   "execution_count": 29,
   "id": "078d75b6",
   "metadata": {},
   "outputs": [
    {
     "name": "stdout",
     "output_type": "stream",
     "text": [
      "9\n",
      "8\n",
      "7\n",
      "6\n",
      "5\n",
      "4\n",
      "3\n",
      "2\n",
      "1\n"
     ]
    }
   ],
   "source": [
    "x=10\n",
    "while x>1:\n",
    "    x-=1\n",
    "    print(x)\n",
    "    \n"
   ]
  },
  {
   "cell_type": "code",
   "execution_count": 42,
   "id": "a24aff04",
   "metadata": {},
   "outputs": [
    {
     "name": "stdout",
     "output_type": "stream",
     "text": [
      "Can you enter number1:1\n",
      "Can you enter number2:5\n",
      "Can you enter number3:4\n",
      "Can you enter number4:66\n",
      "Can you enter number5:54\n",
      "['1', '4', '5', '54', '66']\n"
     ]
    }
   ],
   "source": [
    "numbers =[]\n",
    "x=0\n",
    "while x<5:\n",
    "    x+=1\n",
    "    numbers.append(input(f\"Can you enter number{x}:\")) \n",
    "numbers.sort()\n",
    "print(numbers)\n"
   ]
  },
  {
   "cell_type": "code",
   "execution_count": 45,
   "id": "e4990ee3",
   "metadata": {},
   "outputs": [
    {
     "name": "stdout",
     "output_type": "stream",
     "text": [
      "How many products do you want to enter: 2\n",
      "Can you enter product name: Iphone\n",
      "Can you enter product price: 11.000\n",
      "Can you enter product name: Samsung A20\n",
      "Can you enter product price: 5000\n"
     ]
    }
   ],
   "source": [
    "products=[]\n",
    "no = int(input(\"How many products do you want to enter: \"))\n",
    "while i<no:\n",
    "    name = input(\"Can you enter product name: \")\n",
    "    price = input(\"Can you enter product price: \")\n",
    "    if name==\"break\"and price ==\"break\":\n",
    "        break\n",
    "    products.append( \n",
    "        {\"name\":name,\n",
    "         \"price\":price\n",
    "        }\n",
    "                    )\n",
    "    i+=1\n",
    "    \n",
    "\n",
    "    "
   ]
  },
  {
   "cell_type": "code",
   "execution_count": 48,
   "id": "e044244b",
   "metadata": {},
   "outputs": [
    {
     "name": "stdout",
     "output_type": "stream",
     "text": [
      "{'name': 'Iphone', 'price': '11.000'}\n",
      "{'name': 'Samsung A20', 'price': '5000'}\n"
     ]
    }
   ],
   "source": [
    "for x in range(no):\n",
    "    print(products[x])\n",
    "    \n",
    "    \n"
   ]
  },
  {
   "cell_type": "code",
   "execution_count": null,
   "id": "6eedc445",
   "metadata": {},
   "outputs": [],
   "source": []
  }
 ],
 "metadata": {
  "kernelspec": {
   "display_name": "Python 3 (ipykernel)",
   "language": "python",
   "name": "python3"
  },
  "language_info": {
   "codemirror_mode": {
    "name": "ipython",
    "version": 3
   },
   "file_extension": ".py",
   "mimetype": "text/x-python",
   "name": "python",
   "nbconvert_exporter": "python",
   "pygments_lexer": "ipython3",
   "version": "3.9.13"
  }
 },
 "nbformat": 4,
 "nbformat_minor": 5
}
