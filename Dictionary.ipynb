{
 "cells": [
  {
   "cell_type": "markdown",
   "id": "4412521f",
   "metadata": {},
   "source": [
    "# DICTIONARY"
   ]
  },
  {
   "cell_type": "markdown",
   "id": "8f40b564",
   "metadata": {},
   "source": [
    "Dictionary = {key : value }"
   ]
  },
  {
   "cell_type": "code",
   "execution_count": 14,
   "id": "03f96a18",
   "metadata": {},
   "outputs": [],
   "source": [
    "users = {\n",
    "    \"Batuhan\":\n",
    "    {\n",
    "        \"age\": 21,\n",
    "        \"roles\": \"admin\",\n",
    "        \"job\": \"Developer\",\n",
    "        \"email\": \"batuhan@gmail.com\"   \n",
    "    }\n",
    "        }"
   ]
  },
  {
   "cell_type": "code",
   "execution_count": 5,
   "id": "ecf85b7e",
   "metadata": {},
   "outputs": [
    {
     "data": {
      "text/plain": [
       "{'age': 21, 'roles': 'admin', 'job': 'Developer', 'email': 'batuhan@gmail.com'}"
      ]
     },
     "execution_count": 5,
     "metadata": {},
     "output_type": "execute_result"
    }
   ],
   "source": [
    "users[\"Batuhan\"]"
   ]
  },
  {
   "cell_type": "code",
   "execution_count": 6,
   "id": "156b2d64",
   "metadata": {},
   "outputs": [
    {
     "data": {
      "text/plain": [
       "'batuhan@gmail.com'"
      ]
     },
     "execution_count": 6,
     "metadata": {},
     "output_type": "execute_result"
    }
   ],
   "source": [
    "users[\"Batuhan\"][\"email\"]"
   ]
  },
  {
   "cell_type": "markdown",
   "id": "2b6f226a",
   "metadata": {},
   "source": [
    "# EXAMPLE"
   ]
  },
  {
   "cell_type": "code",
   "execution_count": 37,
   "id": "caf714fe",
   "metadata": {},
   "outputs": [
    {
     "name": "stdout",
     "output_type": "stream",
     "text": [
      "Can You Enter Your Name: Batuhan\n",
      "Can You Enter Your Surname: inan\n",
      "Can You Enter Your Phone Number: 444 444 44\n",
      "Can You Enter Your School Number: 100\n",
      "Can You Enter Your Name: Hazal\n",
      "Can You Enter Your Surname: Inan\n",
      "Can You Enter Your Phone Number: 555 555 55\n",
      "Can You Enter Your School Number: 101\n",
      "Can You Enter Your Name: Yasemin\n",
      "Can You Enter Your Surname: çicek\n",
      "Can You Enter Your Phone Number: 666 666 66\n",
      "Can You Enter Your School Number: 102\n"
     ]
    }
   ],
   "source": [
    "for i in range(3):\n",
    "    name = input(\"Can You Enter Your Name: \")\n",
    "    surname = input(\"Can You Enter Your Surname: \")\n",
    "    phone = input(\"Can You Enter Your Phone Number: \")\n",
    "    number = input(\"Can You Enter Your School Number: \")\n",
    "\n",
    "    students.update( { number:\n",
    "        {\n",
    "            \"Name\":name,\n",
    "            \"Surname\":surname,\n",
    "            \"Phone\": phone\n",
    "        }\n",
    "\n",
    "    })"
   ]
  },
  {
   "cell_type": "code",
   "execution_count": 41,
   "id": "1f9a2839",
   "metadata": {},
   "outputs": [
    {
     "name": "stdout",
     "output_type": "stream",
     "text": [
      "{'Name': 'Batuhan', 'Surname': 'inan', 'Phone': '444 444 44'}\n",
      "{'Name': 'Hazal', 'Surname': 'Inan', 'Phone': '555 555 55'}\n",
      "{'Name': 'Yasemin', 'Surname': 'çicek', 'Phone': '666 666 66'}\n"
     ]
    }
   ],
   "source": [
    "print(students[\"100\"])\n",
    "print(students[\"101\"])\n",
    "print(students[\"102\"])"
   ]
  },
  {
   "cell_type": "code",
   "execution_count": 42,
   "id": "fb11c786",
   "metadata": {},
   "outputs": [
    {
     "name": "stdout",
     "output_type": "stream",
     "text": [
      "Enter Your School NO: 100\n",
      "{'Name': 'Batuhan', 'Surname': 'inan', 'Phone': '444 444 44'}\n"
     ]
    }
   ],
   "source": [
    "school = input(\"Enter Your School NO: \")\n",
    "print(students[school])"
   ]
  },
  {
   "cell_type": "code",
   "execution_count": null,
   "id": "bfe74056",
   "metadata": {},
   "outputs": [],
   "source": []
  }
 ],
 "metadata": {
  "kernelspec": {
   "display_name": "Python 3 (ipykernel)",
   "language": "python",
   "name": "python3"
  },
  "language_info": {
   "codemirror_mode": {
    "name": "ipython",
    "version": 3
   },
   "file_extension": ".py",
   "mimetype": "text/x-python",
   "name": "python",
   "nbconvert_exporter": "python",
   "pygments_lexer": "ipython3",
   "version": "3.9.13"
  }
 },
 "nbformat": 4,
 "nbformat_minor": 5
}
