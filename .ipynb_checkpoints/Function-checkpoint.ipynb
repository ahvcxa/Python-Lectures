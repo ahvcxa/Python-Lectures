{
 "cells": [
  {
   "cell_type": "code",
   "execution_count": 2,
   "id": "72feb1b1",
   "metadata": {},
   "outputs": [
    {
     "name": "stdout",
     "output_type": "stream",
     "text": [
      "Wellcome Batuhan\n"
     ]
    }
   ],
   "source": [
    "def Loguser(name):\n",
    "    return \"Wellcome \"+ name\n",
    "\n",
    "UserBatuhan = Loguser(\"Batuhan\")\n",
    "print(UserBatuhan)"
   ]
  },
  {
   "cell_type": "code",
   "execution_count": 3,
   "id": "8adbaf0d",
   "metadata": {},
   "outputs": [
    {
     "name": "stdout",
     "output_type": "stream",
     "text": [
      "28\n"
     ]
    }
   ],
   "source": [
    "def total(*nums):\n",
    "    return sum(nums)\n",
    "print(total(1,2,3,4,5,6,7))\n"
   ]
  },
  {
   "cell_type": "code",
   "execution_count": 17,
   "id": "ab9cc93e",
   "metadata": {},
   "outputs": [
    {
     "name": "stdout",
     "output_type": "stream",
     "text": [
      "{'Name': 'Batuhan', 'No': '184', 'Gender': 'Male'}\n",
      "{'Name': 'Hazal', 'No': '124', 'Gender': 'Female'}\n"
     ]
    }
   ],
   "source": [
    "Users = []\n",
    "def SigUser(**kwargs):\n",
    "    return Users.append(kwargs)\n",
    "SigUser(Name=\"Batuhan\",No=\"184\",Gender=\"Male\")\n",
    "SigUser(Name=\"Hazal\",No=\"124\",Gender=\"Female\")\n",
    "for i in range(0,len(Users)):\n",
    "    print(Users[i])\n",
    "\n",
    "    "
   ]
  },
  {
   "cell_type": "code",
   "execution_count": 19,
   "id": "f23e28be",
   "metadata": {},
   "outputs": [
    {
     "name": "stdout",
     "output_type": "stream",
     "text": [
      "How many times: 3\n",
      "Which word: Batuhan\n",
      "BatuhanBatuhanBatuhan\n"
     ]
    }
   ],
   "source": [
    "y=int(input(\"How many times: \"))\n",
    "x=input(\"Which word: \")\n",
    "def multiple():\n",
    "    return x*y\n",
    "print(multiple())\n"
   ]
  },
  {
   "cell_type": "code",
   "execution_count": 25,
   "id": "c2399a3c",
   "metadata": {},
   "outputs": [
    {
     "name": "stdout",
     "output_type": "stream",
     "text": [
      "Can you enter something: Bmw\n",
      "Can you enter something: kartal\n",
      "Can you enter something: hacimurat\n",
      "Can you enter something: audi\n",
      "Can you enter something: break\n",
      "('Bmw',)\n",
      "('kartal',)\n",
      "('hacimurat',)\n",
      "('audi',)\n",
      "('break',)\n"
     ]
    }
   ],
   "source": [
    "list1=[]\n",
    "\n",
    "def values(*args):\n",
    "    return list1.append(args)\n",
    "while True:\n",
    "    args = input(\"Can you enter something: \")\n",
    "    values(args)\n",
    "    if args == \"break\":\n",
    "        break\n",
    "for i in range(0,len(list1)):\n",
    "    print(list1[i])\n",
    "        \n",
    "    "
   ]
  },
  {
   "cell_type": "code",
   "execution_count": 1,
   "id": "59f5c26d",
   "metadata": {},
   "outputs": [
    {
     "name": "stdout",
     "output_type": "stream",
     "text": [
      "Can you enter first number: 10\n",
      "Can you enter last number: 30\n",
      "This is prime number 11\n",
      "This is prime number 13\n",
      "This is prime number 15\n",
      "This is prime number 17\n",
      "This is prime number 19\n",
      "This is prime number 21\n",
      "This is prime number 23\n",
      "This is prime number 25\n",
      "This is prime number 27\n",
      "This is prime number 29\n"
     ]
    }
   ],
   "source": [
    "num1=int(input(\"Can you enter first number: \"))\n",
    "num2=int(input(\"Can you enter last number: \"))\n",
    "def prime(num1,num2):\n",
    "    for i in range(num1,num2):\n",
    "        for x in range(2,i):\n",
    "            if i%x==0:\n",
    "                prime=False\n",
    "                break\n",
    "            else:\n",
    "                prime=True\n",
    "            if prime==True:\n",
    "                print(\"This is prime number\",i)\n",
    "                break\n",
    "\n",
    "prime(num1,num2)"
   ]
  },
  {
   "cell_type": "code",
   "execution_count": 15,
   "id": "84820954",
   "metadata": {},
   "outputs": [
    {
     "name": "stdout",
     "output_type": "stream",
     "text": [
      "Can you enter number: 40\n"
     ]
    },
    {
     "data": {
      "text/plain": [
       "[1, 2, 4, 5, 8, 10, 20, 40]"
      ]
     },
     "execution_count": 15,
     "metadata": {},
     "output_type": "execute_result"
    }
   ],
   "source": [
    "dvides =[]\n",
    "num=int(input(\"Can you enter number: \"))\n",
    "def dvide(num):\n",
    "    for i in range(1,num+1):\n",
    "        if num%i==0:\n",
    "            dvides.append(i)\n",
    "    return dvides        \n",
    "\n",
    "dvide(num)"
   ]
  }
 ],
 "metadata": {
  "kernelspec": {
   "display_name": "Python 3 (ipykernel)",
   "language": "python",
   "name": "python3"
  },
  "language_info": {
   "codemirror_mode": {
    "name": "ipython",
    "version": 3
   },
   "file_extension": ".py",
   "mimetype": "text/x-python",
   "name": "python",
   "nbconvert_exporter": "python",
   "pygments_lexer": "ipython3",
   "version": "3.9.13"
  }
 },
 "nbformat": 4,
 "nbformat_minor": 5
}
