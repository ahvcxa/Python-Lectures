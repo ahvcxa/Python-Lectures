{
 "cells": [
  {
   "cell_type": "markdown",
   "id": "864f17e1",
   "metadata": {},
   "source": [
    "# Type-Conversion"
   ]
  },
  {
   "cell_type": "code",
   "execution_count": 8,
   "id": "e0ae81d0",
   "metadata": {},
   "outputs": [
    {
     "name": "stdout",
     "output_type": "stream",
     "text": [
      "Can you enter cirle's radius: 2.45\n",
      "18.847850000000005\n",
      "15.386000000000001\n"
     ]
    }
   ],
   "source": [
    "r = float(input(\"Can you enter cirle's radius: \"))\n",
    "pi= 3.14\n",
    "circumference = 2*pi*r\n",
    "circle_area = pi*r**2\n",
    "print(circle_area)\n",
    "print(circumference)"
   ]
  },
  {
   "cell_type": "code",
   "execution_count": null,
   "id": "703ba8c0",
   "metadata": {},
   "outputs": [],
   "source": []
  }
 ],
 "metadata": {
  "kernelspec": {
   "display_name": "Python 3 (ipykernel)",
   "language": "python",
   "name": "python3"
  },
  "language_info": {
   "codemirror_mode": {
    "name": "ipython",
    "version": 3
   },
   "file_extension": ".py",
   "mimetype": "text/x-python",
   "name": "python",
   "nbconvert_exporter": "python",
   "pygments_lexer": "ipython3",
   "version": "3.9.13"
  }
 },
 "nbformat": 4,
 "nbformat_minor": 5
}
